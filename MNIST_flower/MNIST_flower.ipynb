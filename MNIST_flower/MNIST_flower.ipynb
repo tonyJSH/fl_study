{
 "cells": [
  {
   "cell_type": "markdown",
   "id": "770692a9",
   "metadata": {},
   "source": [
    "# MNIST 데이터셋을 활용한 연합학습\n",
    "- pytorch 모델의 연합학습 코드 이해\n",
    "- 클라이언트의 데이터 분포가 균등하지 않을 때(non-iid)상황 이해"
   ]
  },
  {
   "cell_type": "markdown",
   "id": "7938b0b1",
   "metadata": {},
   "source": [
    "## import"
   ]
  },
  {
   "cell_type": "code",
   "execution_count": 1,
   "id": "8bfaf203",
   "metadata": {},
   "outputs": [
    {
     "name": "stderr",
     "output_type": "stream",
     "text": [
      "2023-08-23 17:08:13.363727: I tensorflow/core/platform/cpu_feature_guard.cc:193] This TensorFlow binary is optimized with oneAPI Deep Neural Network Library (oneDNN) to use the following CPU instructions in performance-critical operations:  AVX2 AVX512F AVX512_VNNI FMA\n",
      "To enable them in other operations, rebuild TensorFlow with the appropriate compiler flags.\n",
      "2023-08-23 17:08:13.472446: I tensorflow/core/util/util.cc:169] oneDNN custom operations are on. You may see slightly different numerical results due to floating-point round-off errors from different computation orders. To turn them off, set the environment variable `TF_ENABLE_ONEDNN_OPTS=0`.\n",
      "2023-08-23 17:08:13.496416: E tensorflow/stream_executor/cuda/cuda_blas.cc:2981] Unable to register cuBLAS factory: Attempting to register factory for plugin cuBLAS when one has already been registered\n",
      "2023-08-23 17:08:13.884336: W tensorflow/stream_executor/platform/default/dso_loader.cc:64] Could not load dynamic library 'libnvinfer.so.7'; dlerror: libnvinfer.so.7: cannot open shared object file: No such file or directory; LD_LIBRARY_PATH: /usr/local/cuda/lib64:\n",
      "2023-08-23 17:08:13.884411: W tensorflow/stream_executor/platform/default/dso_loader.cc:64] Could not load dynamic library 'libnvinfer_plugin.so.7'; dlerror: libnvinfer_plugin.so.7: cannot open shared object file: No such file or directory; LD_LIBRARY_PATH: /usr/local/cuda/lib64:\n",
      "2023-08-23 17:08:13.884415: W tensorflow/compiler/tf2tensorrt/utils/py_utils.cc:38] TF-TRT Warning: Cannot dlopen some TensorRT libraries. If you would like to use Nvidia GPU with TensorRT, please make sure the missing libraries mentioned above are installed properly.\n"
     ]
    }
   ],
   "source": [
    "import torch\n",
    "import torch.nn as nn\n",
    "import torch.optim as optim\n",
    "import torchvision\n",
    "import torchvision.transforms as transfroms\n",
    "import numpy as np\n",
    "from torch.utils.data import DataLoader\n",
    "from collections import OrderedDict\n",
    "import flwr as fl\n",
    "import math\n",
    "import matplotlib.pyplot as plt\n",
    "\n"
   ]
  },
  {
   "cell_type": "markdown",
   "id": "3a89ca67",
   "metadata": {},
   "source": [
    "### (주의 사항) 수강생 모두가 동일한 GPU를 사용하면 속도가 매우 느려지거나 오류가 발생할 수 있음\n",
    "### 아래와 같이 각 조는 개별 GPU를 사용하기로 함\n",
    "- 1조 : cuda:1\n",
    "- 2조 : cuda:2\n",
    "- 3조 : cuda:3"
   ]
  },
  {
   "cell_type": "code",
   "execution_count": 2,
   "id": "11408c47",
   "metadata": {},
   "outputs": [
    {
     "name": "stdout",
     "output_type": "stream",
     "text": [
      "Using PyTorch version: 1.12.1+cu113  Device: cuda:0\n"
     ]
    }
   ],
   "source": [
    "''' 딥러닝 모델을 설계할 때 활용하는 장비 확인 '''\n",
    "if torch.cuda.is_available():\n",
    "    DEVICE = torch.device('cuda:0') # 해당 조의 GPU 번호로 변경 ex) 1조 : cuda:1\n",
    "else:\n",
    "    DEVICE = torch.device('cpu')\n",
    "\n",
    "print('Using PyTorch version:', torch.__version__, ' Device:', DEVICE)"
   ]
  },
  {
   "cell_type": "markdown",
   "id": "d9b637f8",
   "metadata": {},
   "source": [
    "## MNIST 데이터셋\n",
    "- 0부터 9까지의 숫자를 손글씨로 쓴 이미지들로 구성\n",
    "- 각 이미지는 28x28 픽셀 크기의 흑백 이미지로 총 784(=28x28)개의 픽셀로 이루어져 있음\n",
    "- 머신 러닝 분야에서 가장 많이 사용되는 벤치마크 데이터셋 중 하나"
   ]
  },
  {
   "cell_type": "code",
   "execution_count": 3,
   "id": "bd402b23",
   "metadata": {},
   "outputs": [],
   "source": [
    "train_set = torchvision.datasets.MNIST(\n",
    "    root = './data/MNIST',\n",
    "    train = True,\n",
    "    download = True,\n",
    "    transform = transfroms.Compose([\n",
    "        transfroms.ToTensor() # 데이터를 0에서 255까지 있는 값을 0에서 1사이 값으로 변환\n",
    "    ])\n",
    ")\n",
    "test_set = torchvision.datasets.MNIST(\n",
    "    root = './data/MNIST',\n",
    "    train = False,\n",
    "    download = True,\n",
    "    transform = transfroms.Compose([\n",
    "        transfroms.ToTensor() # 데이터를 0에서 255까지 있는 값을 0에서 1사이 값으로 변환\n",
    "    ])\n",
    ")\n",
    "\n",
    "BATCH_SIZE = 128\n",
    "# train_loader, test_loader 생성\n",
    "train_loader = torch.utils.data.DataLoader(train_set, batch_size=BATCH_SIZE)\n",
    "test_loader = torch.utils.data.DataLoader(test_set, batch_size=BATCH_SIZE)"
   ]
  },
  {
   "cell_type": "markdown",
   "id": "2412fb65-f133-4acf-804b-a56f69e3cb79",
   "metadata": {},
   "source": [
    "## Pytorch 모델 정의"
   ]
  },
  {
   "cell_type": "code",
   "execution_count": 4,
   "id": "e3f2ccd9",
   "metadata": {},
   "outputs": [],
   "source": [
    "class MLP(nn.Module):\n",
    "    def __init__(self):\n",
    "        super(MLP, self).__init__()\n",
    "        self.flatten = nn.Flatten()\n",
    "        self.dense1 = nn.Linear(28 * 28, 128)\n",
    "        self.relu = nn.ReLU()\n",
    "        self.dropout = nn.Dropout(0.2)\n",
    "        self.dense2 = nn.Linear(128, 10)\n",
    "        self.softmax = nn.Softmax(dim=1)\n",
    "\n",
    "    def forward(self, x):\n",
    "        x = self.flatten(x)\n",
    "        x = self.dense1(x)\n",
    "        x = self.relu(x)\n",
    "        x = self.dropout(x)\n",
    "        x = self.dense2(x)\n",
    "        x = self.softmax(x)\n",
    "        return x\n",
    "\n",
    "torch_model = MLP().to(DEVICE)\n",
    "criterion = nn.CrossEntropyLoss().to(DEVICE)\n",
    "optimizer = torch.optim.Adam(torch_model.parameters())"
   ]
  },
  {
   "cell_type": "markdown",
   "id": "da6489f2-2c85-42a0-8edb-543eb95ea522",
   "metadata": {},
   "source": [
    "## Pytorch 모델 학습 및 검증 함수 정의"
   ]
  },
  {
   "cell_type": "code",
   "execution_count": 5,
   "id": "d8b15a04",
   "metadata": {},
   "outputs": [],
   "source": [
    "''' MLP 모델 학습을 진행하며 학습 데이터에 대한 모델 성능을 확인하는 함수 정의 '''\n",
    "def train(model, epoch, train_loader, optimizer, log_interval, loss_fn):\n",
    "    model.train()\n",
    "    for batch_idx, (image, label) in enumerate(train_loader):\n",
    "        image = image.to(DEVICE)\n",
    "        label = label.to(DEVICE)\n",
    "        optimizer.zero_grad()\n",
    "        output = model(image)\n",
    "        loss = loss_fn(output, label)\n",
    "        loss.backward()\n",
    "        optimizer.step()\n",
    "\n",
    "        if batch_idx % log_interval == 0:\n",
    "            print(\"Train Epoch: {} [{}/{} ({:.0f}%)]\\tTrain Loss: {:.6f}\".format(\n",
    "                                                    epoch, batch_idx * len(image), \n",
    "                                                    len(train_loader.dataset), 100. * batch_idx / len(train_loader), \n",
    "                                                    loss.item()))\n",
    "            \n",
    "''' 학습되는 과정 속에서 검증 데이터에 대한 모델 성능을 확인하는 함수 정의 '''\n",
    "def evaluate(model, test_loader, loss_fn):\n",
    "    model.eval()\n",
    "    test_loss = 0\n",
    "    correct = 0\n",
    "\n",
    "    with torch.no_grad():\n",
    "        for image, label in test_loader:\n",
    "            image = image.to(DEVICE)\n",
    "            label = label.to(DEVICE)\n",
    "            output = model(image)\n",
    "            test_loss += loss_fn(output, label).item()\n",
    "            prediction = output.max(1, keepdim = True)[1]\n",
    "            correct += prediction.eq(label.view_as(prediction)).sum().item()\n",
    "    \n",
    "    test_loss /= (len(test_loader.dataset) / BATCH_SIZE)\n",
    "    test_accuracy = 100. * correct / len(test_loader.dataset)\n",
    "    return test_loss, test_accuracy"
   ]
  },
  {
   "cell_type": "markdown",
   "id": "95c1c79d",
   "metadata": {},
   "source": [
    "## 중앙 집중식 학습"
   ]
  },
  {
   "cell_type": "code",
   "execution_count": 6,
   "id": "aca35fa0",
   "metadata": {},
   "outputs": [
    {
     "name": "stdout",
     "output_type": "stream",
     "text": [
      "Train Epoch: 1 [0/60000 (0%)]\tTrain Loss: 2.302057\n",
      "Train Epoch: 1 [25600/60000 (43%)]\tTrain Loss: 1.588729\n",
      "Train Epoch: 1 [51200/60000 (85%)]\tTrain Loss: 1.597936\n",
      "\n",
      "[EPOCH: 1], \tTest Loss: 1.5692, \tTest Accuracy: 91.89 % \n",
      "\n",
      "Train Epoch: 2 [0/60000 (0%)]\tTrain Loss: 1.534423\n",
      "Train Epoch: 2 [25600/60000 (43%)]\tTrain Loss: 1.552608\n",
      "Train Epoch: 2 [51200/60000 (85%)]\tTrain Loss: 1.569575\n",
      "\n",
      "[EPOCH: 2], \tTest Loss: 1.5493, \tTest Accuracy: 93.72 % \n",
      "\n",
      "Train Epoch: 3 [0/60000 (0%)]\tTrain Loss: 1.514712\n",
      "Train Epoch: 3 [25600/60000 (43%)]\tTrain Loss: 1.540715\n",
      "Train Epoch: 3 [51200/60000 (85%)]\tTrain Loss: 1.532815\n",
      "\n",
      "[EPOCH: 3], \tTest Loss: 1.5376, \tTest Accuracy: 94.51 % \n",
      "\n",
      "Train Epoch: 4 [0/60000 (0%)]\tTrain Loss: 1.489792\n",
      "Train Epoch: 4 [25600/60000 (43%)]\tTrain Loss: 1.532976\n",
      "Train Epoch: 4 [51200/60000 (85%)]\tTrain Loss: 1.522904\n",
      "\n",
      "[EPOCH: 4], \tTest Loss: 1.5299, \tTest Accuracy: 95.20 % \n",
      "\n",
      "Train Epoch: 5 [0/60000 (0%)]\tTrain Loss: 1.494381\n",
      "Train Epoch: 5 [25600/60000 (43%)]\tTrain Loss: 1.531907\n",
      "Train Epoch: 5 [51200/60000 (85%)]\tTrain Loss: 1.511984\n",
      "\n",
      "[EPOCH: 5], \tTest Loss: 1.5250, \tTest Accuracy: 95.63 % \n",
      "\n",
      "Train Epoch: 6 [0/60000 (0%)]\tTrain Loss: 1.497726\n",
      "Train Epoch: 6 [25600/60000 (43%)]\tTrain Loss: 1.512463\n",
      "Train Epoch: 6 [51200/60000 (85%)]\tTrain Loss: 1.504512\n",
      "\n",
      "[EPOCH: 6], \tTest Loss: 1.5202, \tTest Accuracy: 96.11 % \n",
      "\n",
      "Train Epoch: 7 [0/60000 (0%)]\tTrain Loss: 1.492874\n",
      "Train Epoch: 7 [25600/60000 (43%)]\tTrain Loss: 1.520558\n",
      "Train Epoch: 7 [51200/60000 (85%)]\tTrain Loss: 1.505175\n",
      "\n",
      "[EPOCH: 7], \tTest Loss: 1.5175, \tTest Accuracy: 96.24 % \n",
      "\n",
      "Train Epoch: 8 [0/60000 (0%)]\tTrain Loss: 1.481933\n",
      "Train Epoch: 8 [25600/60000 (43%)]\tTrain Loss: 1.500238\n",
      "Train Epoch: 8 [51200/60000 (85%)]\tTrain Loss: 1.497475\n",
      "\n",
      "[EPOCH: 8], \tTest Loss: 1.5141, \tTest Accuracy: 96.62 % \n",
      "\n",
      "Train Epoch: 9 [0/60000 (0%)]\tTrain Loss: 1.483736\n",
      "Train Epoch: 9 [25600/60000 (43%)]\tTrain Loss: 1.507342\n",
      "Train Epoch: 9 [51200/60000 (85%)]\tTrain Loss: 1.497797\n",
      "\n",
      "[EPOCH: 9], \tTest Loss: 1.5122, \tTest Accuracy: 96.78 % \n",
      "\n",
      "Train Epoch: 10 [0/60000 (0%)]\tTrain Loss: 1.483959\n",
      "Train Epoch: 10 [25600/60000 (43%)]\tTrain Loss: 1.495866\n",
      "Train Epoch: 10 [51200/60000 (85%)]\tTrain Loss: 1.507334\n",
      "\n",
      "[EPOCH: 10], \tTest Loss: 1.5101, \tTest Accuracy: 96.90 % \n",
      "\n"
     ]
    }
   ],
   "source": [
    "''' MLP 학습 실행하며 Train, Test set의 Loss 및 Test set Accuracy 확인하기 '''\n",
    "EPOCHS = 10\n",
    "for epoch in range(1, EPOCHS + 1):\n",
    "    train(torch_model, epoch, train_loader, optimizer, 200, criterion)\n",
    "    test_loss, test_accuracy = evaluate(torch_model, test_loader, criterion)\n",
    "    print(\"\\n[EPOCH: {}], \\tTest Loss: {:.4f}, \\tTest Accuracy: {:.2f} % \\n\".format(\n",
    "        epoch, test_loss, test_accuracy))"
   ]
  },
  {
   "cell_type": "markdown",
   "id": "8bb57bad",
   "metadata": {},
   "source": [
    "## 연합학습을 위한 데이터 분할\n",
    "- 각 클라이언트는 서로 다른 데이터를 가지고 있어야 하기에 데이터를 클라이어트의 수 만큼 분할"
   ]
  },
  {
   "cell_type": "code",
   "execution_count": 7,
   "id": "447e8a9d",
   "metadata": {},
   "outputs": [],
   "source": [
    "# 하나의 리스트를 n개로 분할하는 함수 정의\n",
    "def list_split(arr, n):\n",
    "    num = math.trunc(len(arr) / n)\n",
    "    return [arr[i: i + num] for i in range(0, len(arr), num)]"
   ]
  },
  {
   "cell_type": "code",
   "execution_count": 8,
   "id": "94bb8d9e",
   "metadata": {},
   "outputs": [],
   "source": [
    "# 각 클라이언트가 학습하기위한 데이터 분할\n",
    "# 해당 예제에서는 3개의 클라이언트를 연합학습\n",
    "num_clients = 3\n",
    "x_train_list, y_train_list, x_val_list, y_val_list = map(list_split, (train_set.data, train_set.targets, test_set.data, test_set.targets), (num_clients, num_clients, num_clients, num_clients))\n"
   ]
  },
  {
   "cell_type": "code",
   "execution_count": 9,
   "id": "9b5bd479",
   "metadata": {},
   "outputs": [
    {
     "data": {
      "text/plain": [
       "torch.Size([20000, 28, 28])"
      ]
     },
     "execution_count": 9,
     "metadata": {},
     "output_type": "execute_result"
    }
   ],
   "source": [
    "x_train_list[1].size()"
   ]
  },
  {
   "cell_type": "markdown",
   "id": "c14e8adc",
   "metadata": {},
   "source": [
    "## 커스텀 데이터 셋 정의\n",
    "- 연합학습을 위해 분할된 데이터는 tensor이기 때문에 이를 다시 Dataloader 클래스로 정의가 필요함\n",
    "- pytorch에서 제공하는 DataLoader를 사용하기 위해선 아래와 같은 데이터 셋 클래스가 필요함"
   ]
  },
  {
   "cell_type": "code",
   "execution_count": 10,
   "id": "3de35808",
   "metadata": {},
   "outputs": [],
   "source": [
    "class MnistDataSet(torch.utils.data.Dataset):\n",
    "    def __init__(self, images, labels, transforms=None):\n",
    "        self.X = images\n",
    "        self.y = labels\n",
    "        self.transforms = transforms\n",
    "        \n",
    "    def __len__(self):\n",
    "        return len(self.X)\n",
    "    \n",
    "    def __getitem__(self, i):\n",
    "        data = self.X[i, :]\n",
    "        data = np.array(data).astype(np.float32).reshape(1, 28, 28)\n",
    "        return (data, self.y[i])"
   ]
  },
  {
   "cell_type": "code",
   "execution_count": 11,
   "id": "f5e3e03b",
   "metadata": {},
   "outputs": [],
   "source": [
    "num = 0\n",
    "train_dataset_n = MnistDataSet(x_train_list[num], y_train_list[num])\n",
    "test_dataset_n = MnistDataSet(x_val_list[num], y_val_list[num])\n",
    "BATCH_SIZE = 128\n",
    "train_loader_n = DataLoader(train_dataset_n, batch_size=BATCH_SIZE)\n",
    "test_loader_n = DataLoader(test_dataset_n, batch_size=BATCH_SIZE)\n",
    "\n",
    "torch_model_cen = MLP().to(DEVICE)\n",
    "criterion = nn.CrossEntropyLoss().to(DEVICE)\n",
    "optimizer_cen = torch.optim.Adam(torch_model_cen.parameters())"
   ]
  },
  {
   "cell_type": "markdown",
   "id": "3b5ce5c3",
   "metadata": {},
   "source": [
    "## 분할된 데이터의 중앙 집중식 학습\n",
    "- 데이터를 1/3로 분할하여 성능이 감소됨을 확인"
   ]
  },
  {
   "cell_type": "code",
   "execution_count": 12,
   "id": "15151a9e",
   "metadata": {
    "scrolled": true
   },
   "outputs": [
    {
     "name": "stdout",
     "output_type": "stream",
     "text": [
      "Train Epoch: 1 [0/20000 (0%)]\tTrain Loss: 2.383274\n",
      "\n",
      "[EPOCH: 1], \tTest Loss: 2.0998, \tTest Accuracy: 43.68 % \n",
      "\n",
      "Train Epoch: 2 [0/20000 (0%)]\tTrain Loss: 2.038481\n",
      "\n",
      "[EPOCH: 2], \tTest Loss: 1.9555, \tTest Accuracy: 57.61 % \n",
      "\n",
      "Train Epoch: 3 [0/20000 (0%)]\tTrain Loss: 1.851315\n",
      "\n",
      "[EPOCH: 3], \tTest Loss: 1.8936, \tTest Accuracy: 64.33 % \n",
      "\n",
      "Train Epoch: 4 [0/20000 (0%)]\tTrain Loss: 1.725895\n",
      "\n",
      "[EPOCH: 4], \tTest Loss: 1.8264, \tTest Accuracy: 70.36 % \n",
      "\n",
      "Train Epoch: 5 [0/20000 (0%)]\tTrain Loss: 1.726390\n",
      "\n",
      "[EPOCH: 5], \tTest Loss: 1.8227, \tTest Accuracy: 71.50 % \n",
      "\n",
      "Train Epoch: 6 [0/20000 (0%)]\tTrain Loss: 1.703258\n",
      "\n",
      "[EPOCH: 6], \tTest Loss: 1.8410, \tTest Accuracy: 68.83 % \n",
      "\n",
      "Train Epoch: 7 [0/20000 (0%)]\tTrain Loss: 1.745964\n",
      "\n",
      "[EPOCH: 7], \tTest Loss: 1.8284, \tTest Accuracy: 70.87 % \n",
      "\n",
      "Train Epoch: 8 [0/20000 (0%)]\tTrain Loss: 1.718960\n",
      "\n",
      "[EPOCH: 8], \tTest Loss: 1.8441, \tTest Accuracy: 69.28 % \n",
      "\n",
      "Train Epoch: 9 [0/20000 (0%)]\tTrain Loss: 1.744913\n",
      "\n",
      "[EPOCH: 9], \tTest Loss: 1.8360, \tTest Accuracy: 69.40 % \n",
      "\n",
      "Train Epoch: 10 [0/20000 (0%)]\tTrain Loss: 1.742174\n",
      "\n",
      "[EPOCH: 10], \tTest Loss: 1.8293, \tTest Accuracy: 70.78 % \n",
      "\n",
      "Train Epoch: 11 [0/20000 (0%)]\tTrain Loss: 1.734399\n",
      "\n",
      "[EPOCH: 11], \tTest Loss: 1.8464, \tTest Accuracy: 69.04 % \n",
      "\n",
      "Train Epoch: 12 [0/20000 (0%)]\tTrain Loss: 1.709362\n",
      "\n",
      "[EPOCH: 12], \tTest Loss: 1.8148, \tTest Accuracy: 72.25 % \n",
      "\n",
      "Train Epoch: 13 [0/20000 (0%)]\tTrain Loss: 1.734473\n",
      "\n",
      "[EPOCH: 13], \tTest Loss: 1.7732, \tTest Accuracy: 76.33 % \n",
      "\n",
      "Train Epoch: 14 [0/20000 (0%)]\tTrain Loss: 1.684421\n",
      "\n",
      "[EPOCH: 14], \tTest Loss: 1.7567, \tTest Accuracy: 78.01 % \n",
      "\n",
      "Train Epoch: 15 [0/20000 (0%)]\tTrain Loss: 1.656463\n",
      "\n",
      "[EPOCH: 15], \tTest Loss: 1.7703, \tTest Accuracy: 76.72 % \n",
      "\n",
      "Train Epoch: 16 [0/20000 (0%)]\tTrain Loss: 1.648610\n",
      "\n",
      "[EPOCH: 16], \tTest Loss: 1.7444, \tTest Accuracy: 79.27 % \n",
      "\n",
      "Train Epoch: 17 [0/20000 (0%)]\tTrain Loss: 1.633026\n",
      "\n",
      "[EPOCH: 17], \tTest Loss: 1.7345, \tTest Accuracy: 80.23 % \n",
      "\n",
      "Train Epoch: 18 [0/20000 (0%)]\tTrain Loss: 1.635459\n",
      "\n",
      "[EPOCH: 18], \tTest Loss: 1.7479, \tTest Accuracy: 78.22 % \n",
      "\n",
      "Train Epoch: 19 [0/20000 (0%)]\tTrain Loss: 1.628718\n",
      "\n",
      "[EPOCH: 19], \tTest Loss: 1.7232, \tTest Accuracy: 80.68 % \n",
      "\n",
      "Train Epoch: 20 [0/20000 (0%)]\tTrain Loss: 1.609585\n",
      "\n",
      "[EPOCH: 20], \tTest Loss: 1.7302, \tTest Accuracy: 80.65 % \n",
      "\n",
      "Train Epoch: 21 [0/20000 (0%)]\tTrain Loss: 1.601776\n",
      "\n",
      "[EPOCH: 21], \tTest Loss: 1.7259, \tTest Accuracy: 81.13 % \n",
      "\n",
      "Train Epoch: 22 [0/20000 (0%)]\tTrain Loss: 1.594023\n",
      "\n",
      "[EPOCH: 22], \tTest Loss: 1.7321, \tTest Accuracy: 80.56 % \n",
      "\n",
      "Train Epoch: 23 [0/20000 (0%)]\tTrain Loss: 1.601568\n",
      "\n",
      "[EPOCH: 23], \tTest Loss: 1.7309, \tTest Accuracy: 80.59 % \n",
      "\n",
      "Train Epoch: 24 [0/20000 (0%)]\tTrain Loss: 1.602162\n",
      "\n",
      "[EPOCH: 24], \tTest Loss: 1.7230, \tTest Accuracy: 81.40 % \n",
      "\n",
      "Train Epoch: 25 [0/20000 (0%)]\tTrain Loss: 1.601845\n",
      "\n",
      "[EPOCH: 25], \tTest Loss: 1.7347, \tTest Accuracy: 80.26 % \n",
      "\n",
      "Train Epoch: 26 [0/20000 (0%)]\tTrain Loss: 1.593963\n",
      "\n",
      "[EPOCH: 26], \tTest Loss: 1.7475, \tTest Accuracy: 79.00 % \n",
      "\n",
      "Train Epoch: 27 [0/20000 (0%)]\tTrain Loss: 1.664273\n",
      "\n",
      "[EPOCH: 27], \tTest Loss: 1.7201, \tTest Accuracy: 81.70 % \n",
      "\n",
      "Train Epoch: 28 [0/20000 (0%)]\tTrain Loss: 1.601776\n",
      "\n",
      "[EPOCH: 28], \tTest Loss: 1.7337, \tTest Accuracy: 80.35 % \n",
      "\n",
      "Train Epoch: 29 [0/20000 (0%)]\tTrain Loss: 1.609577\n",
      "\n",
      "[EPOCH: 29], \tTest Loss: 1.7365, \tTest Accuracy: 80.05 % \n",
      "\n",
      "Train Epoch: 30 [0/20000 (0%)]\tTrain Loss: 1.625147\n",
      "\n",
      "[EPOCH: 30], \tTest Loss: 1.7131, \tTest Accuracy: 82.42 % \n",
      "\n"
     ]
    }
   ],
   "source": [
    "''' MLP 학습 실행하며 Train, Test set의 Loss 및 Test set Accuracy 확인하기 '''\n",
    "EPOCHS = 30\n",
    "for epoch in range(1, EPOCHS + 1):\n",
    "    train(torch_model_cen, epoch, train_loader_n, optimizer_cen, 200, criterion)\n",
    "    test_loss, test_accuracy = evaluate(torch_model_cen, test_loader_n, criterion)\n",
    "    print(\"\\n[EPOCH: {}], \\tTest Loss: {:.4f}, \\tTest Accuracy: {:.2f} % \\n\".format(\n",
    "        epoch, test_loss, test_accuracy))"
   ]
  },
  {
   "cell_type": "markdown",
   "id": "96c7e590-0a30-4bec-a5d5-bc3520243a69",
   "metadata": {},
   "source": [
    "## Pytorch 모델의 FlowerClient 코드"
   ]
  },
  {
   "cell_type": "code",
   "execution_count": 13,
   "id": "082c133c",
   "metadata": {},
   "outputs": [],
   "source": [
    "class FlowerClient(fl.client.NumPyClient):\n",
    "    def __init__(self, model, tarinloader, testloader, opt, loss_fn):\n",
    "        self.model = model\n",
    "        self.train_loader = tarinloader\n",
    "        self.test_loader = testloader\n",
    "        self.optimizer = opt\n",
    "        self.loss_fn = loss_fn\n",
    "\n",
    "    def get_parameters(self, config):\n",
    "        return [val.cpu().numpy() for _, val in self.model.state_dict().items()]\n",
    "\n",
    "    def set_parameters(self, parameters): # pytorch 모델에 파라미터를 적용하는 코드가 복잡하여 함수로 정의\n",
    "        params_dict = zip(self.model.state_dict().keys(), parameters)\n",
    "        state_dict = OrderedDict({k: torch.tensor(v) for k, v in params_dict})\n",
    "        self.model.load_state_dict(state_dict, strict=True)\n",
    "\n",
    "    def fit(self, parameters, config):\n",
    "        self.set_parameters(parameters) # 위에서 정의한 set_parameters함수를 사용\n",
    "        train(self.model, 1, self.train_loader, self.optimizer, 200, self.loss_fn)\n",
    "        return self.get_parameters(config={}), len(self.train_loader.dataset), {}\n",
    "\n",
    "    def evaluate(self, parameters, config):\n",
    "        self.set_parameters(parameters)\n",
    "        loss, accuracy = evaluate(self.model, self.test_loader, self.loss_fn)\n",
    "        return loss, len(self.test_loader.dataset), {\"accuracy\": accuracy}"
   ]
  },
  {
   "cell_type": "markdown",
   "id": "73982066-d506-4dea-a8fa-e011b35cadfa",
   "metadata": {},
   "source": [
    "## 연합학습 코드\n",
    "- 앞서 정의한 FlowerClient를 fl.client.start_numpy_client 함수를 통해 클라이언트 실행"
   ]
  },
  {
   "cell_type": "code",
   "execution_count": 14,
   "id": "170ab41b",
   "metadata": {},
   "outputs": [],
   "source": [
    "model_fl = MLP().to(DEVICE)\n",
    "criterion_fl = nn.CrossEntropyLoss().to(DEVICE)\n",
    "optimizer_fl = torch.optim.Adam(model_fl.parameters())"
   ]
  },
  {
   "cell_type": "markdown",
   "id": "0a1b1e49-7d00-43e9-b6d0-32b72acccf80",
   "metadata": {},
   "source": [
    "### 같은 폴더에 있는 server 파일의 \"1번\" 코드를 먼저 실행하고 아래 셀과 clinet1, clinet2 파일을 실행\n",
    "### client1, client2 파일의 DEVICE를 해당 조의 GPU 번호로 변경해야 함"
   ]
  },
  {
   "cell_type": "code",
   "execution_count": 16,
   "id": "54949906",
   "metadata": {
    "scrolled": true
   },
   "outputs": [
    {
     "name": "stderr",
     "output_type": "stream",
     "text": [
      "INFO flwr 2023-08-23 17:13:53,689 | grpc.py:50 | Opened insecure gRPC connection (no certificates were passed)\n",
      "DEBUG flwr 2023-08-23 17:13:53,697 | connection.py:39 | ChannelConnectivity.IDLE\n",
      "DEBUG flwr 2023-08-23 17:13:53,699 | connection.py:39 | ChannelConnectivity.READY\n"
     ]
    },
    {
     "name": "stdout",
     "output_type": "stream",
     "text": [
      "Train Epoch: 1 [0/20000 (0%)]\tTrain Loss: 2.256194\n",
      "Train Epoch: 1 [0/20000 (0%)]\tTrain Loss: 1.888608\n",
      "Train Epoch: 1 [0/20000 (0%)]\tTrain Loss: 1.647757\n",
      "Train Epoch: 1 [0/20000 (0%)]\tTrain Loss: 1.578306\n",
      "Train Epoch: 1 [0/20000 (0%)]\tTrain Loss: 1.539276\n",
      "Train Epoch: 1 [0/20000 (0%)]\tTrain Loss: 1.534175\n",
      "Train Epoch: 1 [0/20000 (0%)]\tTrain Loss: 1.554655\n",
      "Train Epoch: 1 [0/20000 (0%)]\tTrain Loss: 1.513684\n",
      "Train Epoch: 1 [0/20000 (0%)]\tTrain Loss: 1.501544\n",
      "Train Epoch: 1 [0/20000 (0%)]\tTrain Loss: 1.516202\n",
      "Train Epoch: 1 [0/20000 (0%)]\tTrain Loss: 1.500203\n",
      "Train Epoch: 1 [0/20000 (0%)]\tTrain Loss: 1.500197\n",
      "Train Epoch: 1 [0/20000 (0%)]\tTrain Loss: 1.515838\n",
      "Train Epoch: 1 [0/20000 (0%)]\tTrain Loss: 1.492401\n",
      "Train Epoch: 1 [0/20000 (0%)]\tTrain Loss: 1.499557\n",
      "Train Epoch: 1 [0/20000 (0%)]\tTrain Loss: 1.500213\n",
      "Train Epoch: 1 [0/20000 (0%)]\tTrain Loss: 1.500425\n",
      "Train Epoch: 1 [0/20000 (0%)]\tTrain Loss: 1.500293\n",
      "Train Epoch: 1 [0/20000 (0%)]\tTrain Loss: 1.507884\n",
      "Train Epoch: 1 [0/20000 (0%)]\tTrain Loss: 1.500213\n",
      "Train Epoch: 1 [0/20000 (0%)]\tTrain Loss: 1.508026\n",
      "Train Epoch: 1 [0/20000 (0%)]\tTrain Loss: 1.484589\n",
      "Train Epoch: 1 [0/20000 (0%)]\tTrain Loss: 1.492401\n",
      "Train Epoch: 1 [0/20000 (0%)]\tTrain Loss: 1.484588\n",
      "Train Epoch: 1 [0/20000 (0%)]\tTrain Loss: 1.492324\n",
      "Train Epoch: 1 [0/20000 (0%)]\tTrain Loss: 1.500019\n",
      "Train Epoch: 1 [0/20000 (0%)]\tTrain Loss: 1.492236\n",
      "Train Epoch: 1 [0/20000 (0%)]\tTrain Loss: 1.497093\n",
      "Train Epoch: 1 [0/20000 (0%)]\tTrain Loss: 1.484586\n",
      "Train Epoch: 1 [0/20000 (0%)]\tTrain Loss: 1.492401\n"
     ]
    },
    {
     "name": "stderr",
     "output_type": "stream",
     "text": [
      "DEBUG flwr 2023-08-23 17:14:20,162 | connection.py:113 | gRPC channel closed\n",
      "INFO flwr 2023-08-23 17:14:20,162 | app.py:185 | Disconnect and shut down\n"
     ]
    }
   ],
   "source": [
    "client_num = 0\n",
    "\n",
    "train_dataset_fl = MnistDataSet(x_train_list[client_num], y_train_list[client_num])\n",
    "test_dataset_fl = MnistDataSet(x_val_list[client_num], y_val_list[client_num])\n",
    "BATCH_SIZE = 128\n",
    "train_loader_fl = DataLoader(train_dataset_fl, batch_size=BATCH_SIZE)\n",
    "test_loader_fl = DataLoader(test_dataset_fl, batch_size=BATCH_SIZE)\n",
    "\n",
    "flwr_client = FlowerClient(model_fl, train_loader_fl, test_loader_fl, optimizer_fl, criterion_fl)\n",
    "\n",
    "fl.client.start_numpy_client(server_address=\"127.0.0.1:8080\", client=flwr_client)"
   ]
  },
  {
   "cell_type": "markdown",
   "id": "b3aeb470",
   "metadata": {},
   "source": [
    "## NON-IID상황의 연합학습\n",
    "- IID(Independent Identically Distributed) : 데이터의 클래스 분포가 균등한 상황\n",
    "- NON-IID(NON-Independent Identically Distributed) : 데이터의 클래스 분포가 균등하지 않고 특정 클래스의 개수가 현저히 적거나 많은 상황"
   ]
  },
  {
   "cell_type": "markdown",
   "id": "5e137a73",
   "metadata": {},
   "source": [
    "## NON-IID 상황을 가정하기 위해 데이터 클래스 개수와 분포 조정"
   ]
  },
  {
   "cell_type": "markdown",
   "id": "60b600e1",
   "metadata": {},
   "source": [
    "### 특정 값의 텐서만 가져오는 코드 설명"
   ]
  },
  {
   "cell_type": "code",
   "execution_count": 17,
   "id": "f7ca05d7",
   "metadata": {},
   "outputs": [
    {
     "name": "stdout",
     "output_type": "stream",
     "text": [
      "tensor([ True, False, False,  True, False, False,  True, False, False])\n",
      "tensor([False,  True, False, False,  True, False, False,  True, False])\n",
      "tensor([1, 1, 1])\n",
      "tensor([2, 2, 2])\n"
     ]
    }
   ],
   "source": [
    "ts = torch.tensor([1,2,3,1,2,3,1,2,3])\n",
    "c1 = ts == 1\n",
    "c2 = ts == 2\n",
    "print(c1)\n",
    "print(c2)\n",
    "print(ts[c1])\n",
    "print(ts[c2])"
   ]
  },
  {
   "cell_type": "code",
   "execution_count": 18,
   "id": "2d0cc2f9",
   "metadata": {},
   "outputs": [],
   "source": [
    "# 클래스 별로 다른 분포를 갖게 분할하는 코드\n",
    "# 코드가 복잡하지만 위 셀의 원리로 분할함 (완벽히 이해할 필요 없음)\n",
    "def non_iid_split(client_num:int, ratio:float, dataset):\n",
    "    client_x = [[] for i in range(client_num)]\n",
    "    client_y = [[] for i in range(client_num)]\n",
    "    for i in range(client_num):\n",
    "        data = dataset.data[dataset.targets == i]\n",
    "        targets = dataset.targets[dataset.targets == i]\n",
    "        ratio_num = math.ceil(ratio * len(targets))\n",
    "        client_x[i].append(data[:ratio_num])\n",
    "        client_y[i].append(targets[:ratio_num])\n",
    "        if len(data[ratio_num:]) / (client_num - 1) != 0:\n",
    "            data_tail = list_split(data[ratio_num:], client_num -1)\n",
    "            targets_tail = list_split(targets[ratio_num:], client_num -1)\n",
    "            for l in [n for n in range(client_num) if n != i]:\n",
    "                client_x[l].append(data_tail.pop(0))\n",
    "                client_y[l].append(targets_tail.pop(0))\n",
    "    \n",
    "    return [torch.concat(t, dim=0) for t in client_x], [torch.concat(t, dim=0) for t in client_y]"
   ]
  },
  {
   "cell_type": "markdown",
   "id": "901ce764",
   "metadata": {},
   "source": [
    "### 텍스트 파일을 읽어 ratio값 저장\n",
    "- 다른 클라이언트의 ratio 변수를 한번에 변경하기 위해 텍스트 파일로 조작"
   ]
  },
  {
   "cell_type": "code",
   "execution_count": 19,
   "id": "58fe173f",
   "metadata": {},
   "outputs": [
    {
     "name": "stdout",
     "output_type": "stream",
     "text": [
      "1.0\n"
     ]
    }
   ],
   "source": [
    "# ratio가 0.9이면 특정 클래스의 90%가 한 클라이언트에 있도록 함\n",
    "num_clients = 10\n",
    "with open('ratio.txt', 'r') as f:\n",
    "    r = float(f.readline())\n",
    "    ratio = r\n",
    "print(ratio)\n",
    "x_train_list, y_train_list = non_iid_split(num_clients, ratio, train_set)\n",
    "x_test_list, y_test_list = non_iid_split(num_clients, ratio, test_set)"
   ]
  },
  {
   "cell_type": "markdown",
   "id": "b2a12188",
   "metadata": {},
   "source": [
    "### 클라이언트 별 분포 확인\n",
    "### 각 클라이언트가 색으로 구분됨"
   ]
  },
  {
   "cell_type": "code",
   "execution_count": 21,
   "id": "54ea49b8",
   "metadata": {},
   "outputs": [
    {
     "data": {
      "image/png": "[encoded data removed]",
      "text/plain": [
       "<Figure size 640x480 with 1 Axes>"
      ]
     },
     "metadata": {},
     "output_type": "display_data"
    }
   ],
   "source": [
    "plt.hist(y_train_list, bins=10)\n",
    "plt.xlabel('label')\n",
    "plt.show()"
   ]
  },
  {
   "cell_type": "markdown",
   "id": "4a1ab206",
   "metadata": {},
   "source": [
    "### 같은 폴더에 있는 server 파일의 \"2번\" 코드를 먼저 실행하고 아래 셀을 실행\n",
    "### 이후 아래 설명과 같이 터미널에서 명령어 실행\n",
    "### client_noniid.py파일의 DEVICE를 해당 조의 GPU 번호로 변경해야 함"
   ]
  },
  {
   "cell_type": "code",
   "execution_count": 22,
   "id": "313e9a7c",
   "metadata": {},
   "outputs": [],
   "source": [
    "### 같은 폴더에 있는 server 파일의 \"1번\" 코드를 먼저 실행하고 아래 셀과 clinet1, clinet2 파일을 실행\n",
    "### client1, client2 파일의 DEVICE를 해당 조의 GPU 번호로 변경해야 함\n",
    "model_fl = MLP().to(DEVICE)\n",
    "criterion_fl = nn.CrossEntropyLoss().to(DEVICE)\n",
    "optimizer_fl = torch.optim.Adam(model_fl.parameters())"
   ]
  },
  {
   "cell_type": "code",
   "execution_count": 23,
   "id": "09d7482e",
   "metadata": {},
   "outputs": [
    {
     "name": "stderr",
     "output_type": "stream",
     "text": [
      "INFO flwr 2023-08-23 17:16:58,399 | grpc.py:50 | Opened insecure gRPC connection (no certificates were passed)\n",
      "DEBUG flwr 2023-08-23 17:16:58,406 | connection.py:39 | ChannelConnectivity.IDLE\n",
      "DEBUG flwr 2023-08-23 17:16:58,409 | connection.py:39 | ChannelConnectivity.CONNECTING\n",
      "DEBUG flwr 2023-08-23 17:16:58,412 | connection.py:39 | ChannelConnectivity.READY\n"
     ]
    },
    {
     "name": "stdout",
     "output_type": "stream",
     "text": [
      "Train Epoch: 1 [0/5923 (0%)]\tTrain Loss: 2.454183\n",
      "Train Epoch: 1 [0/5923 (0%)]\tTrain Loss: 2.334679\n",
      "Train Epoch: 1 [0/5923 (0%)]\tTrain Loss: 2.435224\n",
      "Train Epoch: 1 [0/5923 (0%)]\tTrain Loss: 2.443129\n",
      "Train Epoch: 1 [0/5923 (0%)]\tTrain Loss: 1.734187\n",
      "Train Epoch: 1 [0/5923 (0%)]\tTrain Loss: 2.455455\n",
      "Train Epoch: 1 [0/5923 (0%)]\tTrain Loss: 2.458067\n",
      "Train Epoch: 1 [0/5923 (0%)]\tTrain Loss: 2.036931\n",
      "Train Epoch: 1 [0/5923 (0%)]\tTrain Loss: 1.783564\n",
      "Train Epoch: 1 [0/5923 (0%)]\tTrain Loss: 2.458583\n",
      "Train Epoch: 1 [0/5923 (0%)]\tTrain Loss: 2.458689\n",
      "Train Epoch: 1 [0/5923 (0%)]\tTrain Loss: 2.339019\n",
      "Train Epoch: 1 [0/5923 (0%)]\tTrain Loss: 1.516295\n",
      "Train Epoch: 1 [0/5923 (0%)]\tTrain Loss: 2.458290\n",
      "Train Epoch: 1 [0/5923 (0%)]\tTrain Loss: 2.427006\n",
      "Train Epoch: 1 [0/5923 (0%)]\tTrain Loss: 1.562360\n",
      "Train Epoch: 1 [0/5923 (0%)]\tTrain Loss: 2.455928\n",
      "Train Epoch: 1 [0/5923 (0%)]\tTrain Loss: 2.223918\n",
      "Train Epoch: 1 [0/5923 (0%)]\tTrain Loss: 1.627522\n",
      "Train Epoch: 1 [0/5923 (0%)]\tTrain Loss: 1.921485\n",
      "Train Epoch: 1 [0/5923 (0%)]\tTrain Loss: 1.684696\n",
      "Train Epoch: 1 [0/5923 (0%)]\tTrain Loss: 2.181106\n",
      "Train Epoch: 1 [0/5923 (0%)]\tTrain Loss: 1.632167\n",
      "Train Epoch: 1 [0/5923 (0%)]\tTrain Loss: 2.264860\n",
      "Train Epoch: 1 [0/5923 (0%)]\tTrain Loss: 1.609978\n",
      "Train Epoch: 1 [0/5923 (0%)]\tTrain Loss: 2.409143\n",
      "Train Epoch: 1 [0/5923 (0%)]\tTrain Loss: 1.744652\n",
      "Train Epoch: 1 [0/5923 (0%)]\tTrain Loss: 2.245193\n",
      "Train Epoch: 1 [0/5923 (0%)]\tTrain Loss: 1.945548\n",
      "Train Epoch: 1 [0/5923 (0%)]\tTrain Loss: 1.697676\n"
     ]
    },
    {
     "name": "stderr",
     "output_type": "stream",
     "text": [
      "DEBUG flwr 2023-08-23 17:17:25,047 | connection.py:113 | gRPC channel closed\n",
      "INFO flwr 2023-08-23 17:17:25,048 | app.py:185 | Disconnect and shut down\n"
     ]
    }
   ],
   "source": [
    "client_num = 0\n",
    "\n",
    "train_dataset_fl = MnistDataSet(x_train_list[client_num], y_train_list[client_num])\n",
    "test_dataset_fl = MnistDataSet(x_test_list[client_num], y_test_list[client_num])\n",
    "BATCH_SIZE = 128\n",
    "train_loader_fl = DataLoader(train_dataset_fl, batch_size=BATCH_SIZE, shuffle=True)\n",
    "test_loader_fl = DataLoader(test_dataset_fl, batch_size=BATCH_SIZE, shuffle=True)\n",
    "\n",
    "flwr_client = FlowerClient(model_fl, train_loader_fl, test_loader_fl, optimizer_fl, criterion_fl)\n",
    "\n",
    "fl.client.start_numpy_client(server_address=\"127.0.0.1:8080\", client=flwr_client)"
   ]
  },
  {
   "cell_type": "code",
   "execution_count": 22,
   "id": "74e1c4d9",
   "metadata": {},
   "outputs": [
    {
     "data": {
      "text/plain": [
       "39.34"
      ]
     },
     "execution_count": 22,
     "metadata": {},
     "output_type": "execute_result"
    }
   ],
   "source": [
    "loss, accuracy = evaluate(model_fl, test_loader, criterion_fl)\n",
    "accuracy"
   ]
  },
  {
   "cell_type": "markdown",
   "id": "121ffa1f",
   "metadata": {},
   "source": [
    "## 아래 명령어를 주피터 터미널에서 실행\n",
    "1. conda activate 를 통해 가상환경에 진입\n",
    "2. cd 명령어를 통해 MNIST_flower 폴더에 진입\n",
    "3. 아래 명령어 실행"
   ]
  },
  {
   "cell_type": "code",
   "execution_count": null,
   "id": "00c24ba9",
   "metadata": {},
   "outputs": [],
   "source": [
    "python client_noniid.py 1 & python client_noniid.py 2 & python client_noniid.py 3 & python client_noniid.py 4 & python client_noniid.py 5 & python client_noniid.py 6 & python client_noniid.py 7 & python client_noniid.py 8 & python client_noniid.py 9 &"
   ]
  }
 ],
 "metadata": {
  "kernelspec": {
   "display_name": "AI_study",
   "language": "python",
   "name": "ai_study"
  },
  "language_info": {
   "codemirror_mode": {
    "name": "ipython",
    "version": 3
   },
   "file_extension": ".py",
   "mimetype": "text/x-python",
   "name": "python",
   "nbconvert_exporter": "python",
   "pygments_lexer": "ipython3",
   "version": "3.10.12"
  }
 },
 "nbformat": 4,
 "nbformat_minor": 5
}
