{
 "cells": [
  {
   "cell_type": "markdown",
   "id": "6628fb6e",
   "metadata": {},
   "source": [
    "## 1. 모듈 임포트"
   ]
  },
  {
   "cell_type": "code",
   "execution_count": 2,
   "id": "9629eccd",
   "metadata": {
    "ExecuteTime": {
     "end_time": "2023-05-05T12:06:24.013026Z",
     "start_time": "2023-05-05T12:06:20.712904Z"
    },
    "scrolled": true
   },
   "outputs": [
    {
     "name": "stderr",
     "output_type": "stream",
     "text": [
      "Skipped loading modules with pytorch-geometric dependency, missing a dependency. No module named 'torch_geometric'\n",
      "Skipped loading modules with pytorch-geometric dependency, missing a dependency. cannot import name 'DMPNN' from 'deepchem.models.torch_models' (/home/dilab162/anaconda3/lib/python3.9/site-packages/deepchem/models/torch_models/__init__.py)\n",
      "Skipped loading modules with pytorch-lightning dependency, missing a dependency. No module named 'pytorch_lightning'\n",
      "Skipped loading some Jax models, missing a dependency. No module named 'jax'\n"
     ]
    }
   ],
   "source": [
    "import deepchem as dc\n",
    "import tensorflow as tf\n",
    "import tensorflow.keras.layers as layers\n",
    "import numpy as np"
   ]
  },
  {
   "cell_type": "markdown",
   "id": "e5172ea3",
   "metadata": {},
   "source": [
    "## 2. 데이터 로드"
   ]
  },
  {
   "cell_type": "code",
   "execution_count": 3,
   "id": "b3ccf8f3",
   "metadata": {
    "ExecuteTime": {
     "end_time": "2023-05-05T12:06:24.024885Z",
     "start_time": "2023-05-05T12:06:24.019730Z"
    }
   },
   "outputs": [],
   "source": [
    "def load_data(path, client_num):\n",
    "    path_list = [path+'/chunked_siRNA_{i}_{client_num}.npy'.format(i=i, client_num=client_num) for i in ['train_X', 'train_y', 'test_X', 'test_y']]\n",
    "    train_X, train_y, test_X, test_y = np.load(path_list[0], allow_pickle=True), np.load(path_list[1], allow_pickle=True), np.load(path_list[2], allow_pickle=True), np.load(path_list[3], allow_pickle=True)\n",
    "    train = dc.data.DiskDataset.from_numpy(train_X, train_y)\n",
    "    test = dc.data.DiskDataset.from_numpy(test_X, test_y)\n",
    "    return train, test"
   ]
  },
  {
   "cell_type": "code",
   "execution_count": 4,
   "id": "b561e3a8",
   "metadata": {
    "ExecuteTime": {
     "end_time": "2023-05-05T12:06:24.154980Z",
     "start_time": "2023-05-05T12:06:24.032005Z"
    }
   },
   "outputs": [],
   "source": [
    "# 클라이언트 고유번호 입력\n",
    "client_num = 1\n",
    "train, test = load_data('./TFbinding_chunked_data/', client_num)"
   ]
  },
  {
   "cell_type": "code",
   "execution_count": 5,
   "id": "2e804069",
   "metadata": {
    "ExecuteTime": {
     "end_time": "2023-05-05T12:06:24.179731Z",
     "start_time": "2023-05-05T12:06:24.167014Z"
    }
   },
   "outputs": [
    {
     "data": {
      "text/plain": [
       "(46036, 11510)"
      ]
     },
     "execution_count": 5,
     "metadata": {},
     "output_type": "execute_result"
    }
   ],
   "source": [
    "len(train), len(test)"
   ]
  },
  {
   "cell_type": "markdown",
   "id": "7710867f",
   "metadata": {},
   "source": [
    "### A,G,T,C 의 구성으로 101개 배열"
   ]
  },
  {
   "cell_type": "code",
   "execution_count": 6,
   "id": "32060e51",
   "metadata": {
    "ExecuteTime": {
     "end_time": "2023-05-05T12:06:38.148889Z",
     "start_time": "2023-05-05T12:06:38.136138Z"
    }
   },
   "outputs": [
    {
     "data": {
      "text/plain": [
       "<DiskDataset X.shape: (46036, 101, 4), y.shape: (46036, 1), w.shape: (46036, 1), task_names: [0]>"
      ]
     },
     "execution_count": 6,
     "metadata": {},
     "output_type": "execute_result"
    }
   ],
   "source": [
    "train"
   ]
  },
  {
   "cell_type": "markdown",
   "id": "5cb05401",
   "metadata": {},
   "source": [
    "## 3. 모델 정의 및 학습"
   ]
  },
  {
   "cell_type": "code",
   "execution_count": 83,
   "id": "b631e187",
   "metadata": {
    "ExecuteTime": {
     "end_time": "2023-05-03T17:01:53.986607Z",
     "start_time": "2023-05-03T17:01:53.895009Z"
    },
    "scrolled": true
   },
   "outputs": [],
   "source": [
    "# 중앙집중식 학습\n",
    "\n",
    "features = tf.keras.Input(shape=(101, 4))\n",
    "prev = features\n",
    "for i in range(3):\n",
    "    prev = layers.Conv1D(filters=15, kernel_size=10, activation=tf.nn.relu, padding='same')(prev)\n",
    "    prev = layers.Dropout(rate=0.5)(prev)\n",
    "logits = layers.Dense(units=1)(layers.Flatten()(prev))\n",
    "output = layers.Activation(tf.math.sigmoid)(logits)\n",
    "keras_model = tf.keras.Model(inputs=features, outputs=[output, logits])\n",
    "model = dc.models.KerasModel(\n",
    "    keras_model,\n",
    "    loss=dc.models.losses.SigmoidCrossEntropy(),\n",
    "    output_types=['prediction', 'loss'],\n",
    "    batch_size=1000,\n",
    "    model_dir='tf')"
   ]
  },
  {
   "cell_type": "code",
   "execution_count": 84,
   "id": "8a0ecbbf",
   "metadata": {
    "ExecuteTime": {
     "end_time": "2023-05-03T17:01:54.455049Z",
     "start_time": "2023-05-03T17:01:54.426999Z"
    }
   },
   "outputs": [
    {
     "name": "stdout",
     "output_type": "stream",
     "text": [
      "Model: \"model_11\"\n",
      "_________________________________________________________________\n",
      " Layer (type)                Output Shape              Param #   \n",
      "=================================================================\n",
      " input_12 (InputLayer)       [(None, 101, 4)]          0         \n",
      "                                                                 \n",
      " conv1d_33 (Conv1D)          (None, 101, 15)           615       \n",
      "                                                                 \n",
      " dropout_33 (Dropout)        (None, 101, 15)           0         \n",
      "                                                                 \n",
      " conv1d_34 (Conv1D)          (None, 101, 15)           2265      \n",
      "                                                                 \n",
      " dropout_34 (Dropout)        (None, 101, 15)           0         \n",
      "                                                                 \n",
      " conv1d_35 (Conv1D)          (None, 101, 15)           2265      \n",
      "                                                                 \n",
      " dropout_35 (Dropout)        (None, 101, 15)           0         \n",
      "                                                                 \n",
      " flatten_11 (Flatten)        (None, 1515)              0         \n",
      "                                                                 \n",
      " dense_11 (Dense)            (None, 1)                 1516      \n",
      "                                                                 \n",
      " activation_11 (Activation)  (None, 1)                 0         \n",
      "                                                                 \n",
      "=================================================================\n",
      "Total params: 6,661\n",
      "Trainable params: 6,661\n",
      "Non-trainable params: 0\n",
      "_________________________________________________________________\n"
     ]
    }
   ],
   "source": [
    "model.model.summary()"
   ]
  },
  {
   "cell_type": "code",
   "execution_count": 88,
   "id": "30e11672",
   "metadata": {
    "ExecuteTime": {
     "end_time": "2023-05-03T17:04:12.580109Z",
     "start_time": "2023-05-03T17:03:45.534963Z"
    }
   },
   "outputs": [
    {
     "name": "stdout",
     "output_type": "stream",
     "text": [
      "Epoch 0: {'roc_auc_score': 0.8602395431154204} {'roc_auc_score': 0.586955810504275}\n",
      "Epoch 1: {'roc_auc_score': 0.8577640964920892} {'roc_auc_score': 0.5877669145873321}\n",
      "Epoch 2: {'roc_auc_score': 0.875730739028008} {'roc_auc_score': 0.5681559173791659}\n",
      "Epoch 3: {'roc_auc_score': 0.8455889186243929} {'roc_auc_score': 0.5876801241784447}\n",
      "Epoch 4: {'roc_auc_score': 0.8713267071481546} {'roc_auc_score': 0.5815452691502355}\n",
      "Epoch 5: {'roc_auc_score': 0.8809020639287584} {'roc_auc_score': 0.5779550543825975}\n",
      "Epoch 6: {'roc_auc_score': 0.8822684788812785} {'roc_auc_score': 0.5833601429360786}\n",
      "Epoch 7: {'roc_auc_score': 0.886200972773609} {'roc_auc_score': 0.5771025998953063}\n",
      "Epoch 8: {'roc_auc_score': 0.8906838783428583} {'roc_auc_score': 0.575235470104112}\n",
      "Epoch 9: {'roc_auc_score': 0.8858767868568769} {'roc_auc_score': 0.5782545040132612}\n",
      "Epoch 10: {'roc_auc_score': 0.8829855847184656} {'roc_auc_score': 0.5831156757110452}\n",
      "Epoch 11: {'roc_auc_score': 0.8932579099773144} {'roc_auc_score': 0.5746806476472983}\n",
      "Epoch 12: {'roc_auc_score': 0.8901246618968677} {'roc_auc_score': 0.577856903972547}\n",
      "Epoch 13: {'roc_auc_score': 0.8968535504464417} {'roc_auc_score': 0.5667459140347816}\n",
      "Epoch 14: {'roc_auc_score': 0.9017878566442719} {'roc_auc_score': 0.564174464171465}\n",
      "Epoch 15: {'roc_auc_score': 0.902407115934837} {'roc_auc_score': 0.5640222401558774}\n",
      "Epoch 16: {'roc_auc_score': 0.8952298658221358} {'roc_auc_score': 0.5679759749607398}\n",
      "Epoch 17: {'roc_auc_score': 0.910523238455414} {'roc_auc_score': 0.5682517957889839}\n",
      "Epoch 18: {'roc_auc_score': 0.9123923773194602} {'roc_auc_score': 0.5595668476996452}\n",
      "Epoch 19: {'roc_auc_score': 0.9081724503206526} {'roc_auc_score': 0.5723545738091084}\n",
      "Epoch 20: {'roc_auc_score': 0.9116822300900882} {'roc_auc_score': 0.5692528390914907}\n",
      "Epoch 21: {'roc_auc_score': 0.919819200031629} {'roc_auc_score': 0.5631329792648171}\n",
      "Epoch 22: {'roc_auc_score': 0.9172555069002123} {'roc_auc_score': 0.5689851974640843}\n",
      "Epoch 23: {'roc_auc_score': 0.920294430341666} {'roc_auc_score': 0.5708809544582096}\n",
      "Epoch 24: {'roc_auc_score': 0.9212860177540501} {'roc_auc_score': 0.5609159614377945}\n",
      "Epoch 25: {'roc_auc_score': 0.9191853134634123} {'roc_auc_score': 0.5707096456406677}\n",
      "Epoch 26: {'roc_auc_score': 0.9227051193085972} {'roc_auc_score': 0.5646429506194381}\n",
      "Epoch 27: {'roc_auc_score': 0.9269462061556584} {'roc_auc_score': 0.5615693887047053}\n",
      "Epoch 28: {'roc_auc_score': 0.9280670816609953} {'roc_auc_score': 0.5646143234165067}\n",
      "Epoch 29: {'roc_auc_score': 0.9266614428823838} {'roc_auc_score': 0.561718886320014}\n",
      "Epoch 30: {'roc_auc_score': 0.9300441499523748} {'roc_auc_score': 0.554278085558076}\n",
      "Epoch 31: {'roc_auc_score': 0.9349608182095803} {'roc_auc_score': 0.5530330294305823}\n",
      "Epoch 32: {'roc_auc_score': 0.9342889575244306} {'roc_auc_score': 0.5487862065957075}\n",
      "Epoch 33: {'roc_auc_score': 0.9343924561647472} {'roc_auc_score': 0.5501471347350666}\n",
      "Epoch 34: {'roc_auc_score': 0.9381704973660675} {'roc_auc_score': 0.5427449579770838}\n",
      "Epoch 35: {'roc_auc_score': 0.9383474448219324} {'roc_auc_score': 0.5417066538707613}\n",
      "Epoch 36: {'roc_auc_score': 0.9401329383797953} {'roc_auc_score': 0.5377497382655732}\n",
      "Epoch 37: {'roc_auc_score': 0.9411638348257132} {'roc_auc_score': 0.5391529256092596}\n",
      "Epoch 38: {'roc_auc_score': 0.9440080876632349} {'roc_auc_score': 0.5421665067178503}\n",
      "Epoch 39: {'roc_auc_score': 0.9467117198179333} {'roc_auc_score': 0.5317207584482057}\n",
      "Epoch 40: {'roc_auc_score': 0.9506724457762558} {'roc_auc_score': 0.5284490781131856}\n",
      "Epoch 41: {'roc_auc_score': 0.950489931434139} {'roc_auc_score': 0.5304575263188507}\n",
      "Epoch 42: {'roc_auc_score': 0.950834510332141} {'roc_auc_score': 0.5370499621939161}\n",
      "Epoch 43: {'roc_auc_score': 0.9531153147540209} {'roc_auc_score': 0.5380550950968417}\n",
      "Epoch 44: {'roc_auc_score': 0.9517337896816742} {'roc_auc_score': 0.5491624498342349}\n",
      "Epoch 45: {'roc_auc_score': 0.9567734974860396} {'roc_auc_score': 0.5403943465363811}\n",
      "Epoch 46: {'roc_auc_score': 0.9575368709645755} {'roc_auc_score': 0.5374271142325365}\n",
      "Epoch 47: {'roc_auc_score': 0.9597153980528168} {'roc_auc_score': 0.5304211743151283}\n",
      "Epoch 48: {'roc_auc_score': 0.9601149641537969} {'roc_auc_score': 0.5333397858139941}\n",
      "Epoch 49: {'roc_auc_score': 0.9592973703392665} {'roc_auc_score': 0.530588847932298}\n"
     ]
    }
   ],
   "source": [
    "# Train the model, tracking its performance on the training and validation datasets.\n",
    "train_roc_list = []\n",
    "test_roc_list = []\n",
    "metric = dc.metrics.Metric(dc.metrics.roc_auc_score)\n",
    "for i in range(50):\n",
    "    model.fit(train, nb_epoch=1)\n",
    "    train_roc = model.evaluate(train, [metric])\n",
    "    test_roc = model.evaluate(test, [metric])\n",
    "    print('Epoch %d:' % (i), end=' ')\n",
    "    print(train_roc, test_roc)\n",
    "    train_roc_list.append(train_roc['roc_auc_score'])\n",
    "    test_roc_list.append(test_roc['roc_auc_score'])"
   ]
  },
  {
   "cell_type": "markdown",
   "id": "b3e45a75",
   "metadata": {},
   "source": [
    "## 4. 모델 검증"
   ]
  },
  {
   "cell_type": "code",
   "execution_count": 89,
   "id": "bc7e650b",
   "metadata": {
    "ExecuteTime": {
     "end_time": "2023-05-03T17:04:12.771573Z",
     "start_time": "2023-05-03T17:04:12.611674Z"
    },
    "scrolled": false
   },
   "outputs": [
    {
     "data": {
      "image/png": "[encoded data removed]",
      "text/plain": [
       "<Figure size 640x480 with 1 Axes>"
      ]
     },
     "metadata": {},
     "output_type": "display_data"
    }
   ],
   "source": [
    "from matplotlib import pyplot as plt\n",
    "\n",
    "x_values = [i for i in range(len(train_roc_list))]\n",
    "y_values_1 = train_roc_list\n",
    "y_values_2 = test_roc_list\n",
    "\n",
    "plt.plot(x_values, y_values_1)\n",
    "plt.plot(x_values, y_values_2)\n",
    "\n",
    "plt.legend(['train', 'test'])\n",
    "\n",
    "plt.xlabel('epochs')\n",
    "plt.ylabel('roc_auc_score')\n",
    "\n",
    "plt.show()"
   ]
  },
  {
   "cell_type": "markdown",
   "id": "3f47da1c",
   "metadata": {},
   "source": [
    "## 5. 연합학습 모델 생성"
   ]
  },
  {
   "cell_type": "code",
   "execution_count": 7,
   "id": "f2938708",
   "metadata": {
    "ExecuteTime": {
     "end_time": "2023-05-05T12:23:53.038590Z",
     "start_time": "2023-05-05T12:23:49.968417Z"
    }
   },
   "outputs": [
    {
     "name": "stderr",
     "output_type": "stream",
     "text": [
      "2023-05-05 21:23:50.050727: I tensorflow/core/platform/cpu_feature_guard.cc:193] This TensorFlow binary is optimized with oneAPI Deep Neural Network Library (oneDNN) to use the following CPU instructions in performance-critical operations:  AVX2 FMA\n",
      "To enable them in other operations, rebuild TensorFlow with the appropriate compiler flags.\n",
      "2023-05-05 21:23:52.839692: I tensorflow/core/common_runtime/gpu/gpu_device.cc:1532] Created device /job:localhost/replica:0/task:0/device:GPU:0 with 10019 MB memory:  -> device: 0, name: NVIDIA GeForce GTX 1080 Ti, pci bus id: 0000:03:00.0, compute capability: 6.1\n",
      "2023-05-05 21:23:52.840308: I tensorflow/core/common_runtime/gpu/gpu_device.cc:1532] Created device /job:localhost/replica:0/task:0/device:GPU:1 with 10086 MB memory:  -> device: 1, name: NVIDIA GeForce GTX 1080 Ti, pci bus id: 0000:04:00.0, compute capability: 6.1\n"
     ]
    }
   ],
   "source": [
    "# 연합학습 모델 생성\n",
    "features = tf.keras.Input(shape=(101, 4))\n",
    "prev = features\n",
    "for i in range(3):\n",
    "    prev = layers.Conv1D(filters=15, kernel_size=10, activation=tf.nn.relu, padding='same')(prev)\n",
    "    prev = layers.Dropout(rate=0.5)(prev)\n",
    "logits = layers.Dense(units=1)(layers.Flatten()(prev))\n",
    "output = layers.Activation(tf.math.sigmoid)(logits)\n",
    "keras_model = tf.keras.Model(inputs=features, outputs=[output, logits])\n",
    "model_fl = dc.models.KerasModel(\n",
    "    keras_model,\n",
    "    loss=dc.models.losses.SigmoidCrossEntropy(),\n",
    "    output_types=['prediction', 'loss'],\n",
    "    batch_size=1000,\n",
    "    model_dir='tf')\n",
    "\n",
    "\n",
    "\n",
    "# 학습 및 검증 함수 정의\n",
    "train_roc_list_fl = []\n",
    "test_roc_list_fl = []\n",
    "metric = dc.metrics.Metric(dc.metrics.roc_auc_score)\n",
    "def fit_model(model, eopch):\n",
    "    for i in range(eopch):\n",
    "        loss = model.fit(train, nb_epoch=1)\n",
    "        train_roc = model.evaluate(train, [metric])\n",
    "        print('Epoch %d:' % (i))\n",
    "        print(train_roc)\n",
    "        return train_roc['roc_auc_score']\n",
    "        \n",
    "def eval_model(model):\n",
    "    test_roc = model.evaluate(test, [metric])\n",
    "    print(test_roc)\n",
    "    return test_roc['roc_auc_score']"
   ]
  },
  {
   "cell_type": "markdown",
   "id": "7b3c5c8b",
   "metadata": {},
   "source": [
    "## 6. 연합학습 객체 생성 및 학습"
   ]
  },
  {
   "cell_type": "code",
   "execution_count": 12,
   "id": "2bb8fb89",
   "metadata": {
    "ExecuteTime": {
     "end_time": "2023-05-05T12:25:28.316235Z",
     "start_time": "2023-05-05T12:25:10.825282Z"
    },
    "scrolled": true
   },
   "outputs": [
    {
     "name": "stderr",
     "output_type": "stream",
     "text": [
      "INFO flower 2023-05-05 21:25:10,834 | connection.py:102 | Opened insecure gRPC connection (no certificates were passed)\n",
      "DEBUG flower 2023-05-05 21:25:10,837 | connection.py:39 | ChannelConnectivity.IDLE\n",
      "DEBUG flower 2023-05-05 21:25:10,840 | connection.py:39 | ChannelConnectivity.CONNECTING\n",
      "DEBUG flower 2023-05-05 21:25:10,842 | connection.py:39 | ChannelConnectivity.READY\n"
     ]
    },
    {
     "name": "stdout",
     "output_type": "stream",
     "text": [
      "Epoch 0:\n",
      "{'roc_auc_score': 0.5369268890603642}\n",
      "{'roc_auc_score': 0.4662026333391497}\n",
      "Epoch 0:\n",
      "{'roc_auc_score': 0.5464005649594276}\n",
      "{'roc_auc_score': 0.4671282462339324}\n",
      "Epoch 0:\n",
      "{'roc_auc_score': 0.5521408199546287}\n",
      "{'roc_auc_score': 0.4718903587215727}\n",
      "Epoch 0:\n",
      "{'roc_auc_score': 0.5563576226805398}\n",
      "{'roc_auc_score': 0.4799082475426045}\n",
      "Epoch 0:\n",
      "{'roc_auc_score': 0.5662707417637349}\n",
      "{'roc_auc_score': 0.4820357485604606}\n",
      "Epoch 0:\n",
      "{'roc_auc_score': 0.5741763734985312}\n",
      "{'roc_auc_score': 0.47911486506136225}\n",
      "Epoch 0:\n",
      "{'roc_auc_score': 0.5877041059080795}\n",
      "{'roc_auc_score': 0.4730172708369685}\n",
      "Epoch 0:\n",
      "{'roc_auc_score': 0.6012504419426024}\n",
      "{'roc_auc_score': 0.463562569068807}\n",
      "Epoch 0:\n",
      "{'roc_auc_score': 0.6157791345832242}\n",
      "{'roc_auc_score': 0.47166952029895887}\n",
      "Epoch 0:\n",
      "{'roc_auc_score': 0.616212102001716}\n",
      "{'roc_auc_score': 0.4745136101901937}\n",
      "Epoch 0:\n",
      "{'roc_auc_score': 0.6194404983931012}\n",
      "{'roc_auc_score': 0.4751756710579887}\n",
      "Epoch 0:\n",
      "{'roc_auc_score': 0.6226138507765465}\n",
      "{'roc_auc_score': 0.4822733997847961}\n",
      "Epoch 0:\n",
      "{'roc_auc_score': 0.6365180296676409}\n",
      "{'roc_auc_score': 0.4735848164950852}\n",
      "Epoch 0:\n",
      "{'roc_auc_score': 0.6340086420796615}\n",
      "{'roc_auc_score': 0.48140822209620193}\n",
      "Epoch 0:\n",
      "{'roc_auc_score': 0.643110018259387}\n",
      "{'roc_auc_score': 0.48061983801547137}\n",
      "Epoch 0:\n",
      "{'roc_auc_score': 0.662146837872277}\n",
      "{'roc_auc_score': 0.48939793811434884}\n",
      "Epoch 0:\n",
      "{'roc_auc_score': 0.6697811691097344}\n",
      "{'roc_auc_score': 0.49060845983830625}\n",
      "Epoch 0:\n",
      "{'roc_auc_score': 0.6932822054594566}\n",
      "{'roc_auc_score': 0.49315718969929623}\n",
      "Epoch 0:\n",
      "{'roc_auc_score': 0.7163022173930431}\n",
      "{'roc_auc_score': 0.4924505976269412}\n",
      "Epoch 0:\n",
      "{'roc_auc_score': 0.6943057456628277}\n",
      "{'roc_auc_score': 0.49886172788344096}\n",
      "Epoch 0:\n",
      "{'roc_auc_score': 0.69428089349206}\n",
      "{'roc_auc_score': 0.51038349546327}\n",
      "Epoch 0:\n",
      "{'roc_auc_score': 0.7137818096424833}\n",
      "{'roc_auc_score': 0.527659785232362}\n",
      "Epoch 0:\n",
      "{'roc_auc_score': 0.7300372027055522}\n",
      "{'roc_auc_score': 0.5261807130809051}\n",
      "Epoch 0:\n",
      "{'roc_auc_score': 0.7283176029033243}\n",
      "{'roc_auc_score': 0.5473216752457395}\n",
      "Epoch 0:\n",
      "{'roc_auc_score': 0.7199135928365763}\n",
      "{'roc_auc_score': 0.5556676409003665}\n",
      "Epoch 0:\n",
      "{'roc_auc_score': 0.7462128131998371}\n",
      "{'roc_auc_score': 0.5495750450764847}\n",
      "Epoch 0:\n",
      "{'roc_auc_score': 0.7646985110737865}\n",
      "{'roc_auc_score': 0.5547692920083755}\n",
      "Epoch 0:\n",
      "{'roc_auc_score': 0.7612912358578368}\n",
      "{'roc_auc_score': 0.5424695915488862}\n",
      "Epoch 0:\n",
      "{'roc_auc_score': 0.7667971703858011}\n",
      "{'roc_auc_score': 0.5395041768452278}\n"
     ]
    },
    {
     "name": "stderr",
     "output_type": "stream",
     "text": [
      "DEBUG flower 2023-05-05 21:25:28,311 | connection.py:121 | gRPC channel closed\n",
      "INFO flower 2023-05-05 21:25:28,312 | app.py:149 | Disconnect and shut down\n"
     ]
    },
    {
     "name": "stdout",
     "output_type": "stream",
     "text": [
      "Epoch 0:\n",
      "{'roc_auc_score': 0.7770689843999942}\n",
      "{'roc_auc_score': 0.5641113025649973}\n"
     ]
    }
   ],
   "source": [
    "import flwr as fl\n",
    "\n",
    "class TFbinding_model(fl.client.NumPyClient):\n",
    "    def get_parameters(self, config):\n",
    "        return model_fl.model.get_weights()\n",
    "\n",
    "    def fit(self, parameters, config):\n",
    "        model_fl.model.set_weights(parameters)\n",
    "        train_result = fit_model(model_fl, 1)\n",
    "        train_roc_list_fl.append(train_result)\n",
    "        return self.get_parameters(config), len(train), {}\n",
    "\n",
    "    def evaluate(self, parameters, config):\n",
    "        model_fl.model.set_weights(parameters)\n",
    "        eval_result = eval_model(model_fl)\n",
    "        test_roc_list_fl.append(eval_result)\n",
    "        return 0.1, len(test), {\"accuracy\": float(eval_result)}\n",
    "\n",
    "server_ip = '210.115.49.162'\n",
    "fl.client.start_numpy_client(server_address=server_ip + \":8080\", client=TFbinding_model())"
   ]
  },
  {
   "cell_type": "markdown",
   "id": "b28a488c",
   "metadata": {},
   "source": [
    "## 7. 연합학습 모델 검증"
   ]
  },
  {
   "cell_type": "code",
   "execution_count": 94,
   "id": "b99dbd48",
   "metadata": {
    "ExecuteTime": {
     "end_time": "2023-05-03T17:06:41.783293Z",
     "start_time": "2023-05-03T17:06:41.617594Z"
    }
   },
   "outputs": [
    {
     "data": {
      "image/png": "[encoded data removed]",
      "text/plain": [
       "<Figure size 640x480 with 1 Axes>"
      ]
     },
     "metadata": {},
     "output_type": "display_data"
    }
   ],
   "source": [
    "x_values = [i for i in range(len(train_roc_list_fl))]\n",
    "y_values_1 = train_roc_list_fl\n",
    "y_values_2 = test_roc_list_fl\n",
    "\n",
    "plt.plot(x_values, y_values_1)\n",
    "plt.plot(x_values, y_values_2)\n",
    "\n",
    "plt.legend(['train', 'test'])\n",
    "\n",
    "plt.xlabel('epochs')\n",
    "plt.ylabel('roc_auc_score')\n",
    "\n",
    "plt.show()"
   ]
  }
 ],
 "metadata": {
  "kernelspec": {
   "display_name": "Python 3 (ipykernel)",
   "language": "python",
   "name": "python3"
  },
  "language_info": {
   "codemirror_mode": {
    "name": "ipython",
    "version": 3
   },
   "file_extension": ".py",
   "mimetype": "text/x-python",
   "name": "python",
   "nbconvert_exporter": "python",
   "pygments_lexer": "ipython3",
   "version": "3.11.4"
  },
  "toc": {
   "base_numbering": 1,
   "nav_menu": {},
   "number_sections": true,
   "sideBar": true,
   "skip_h1_title": false,
   "title_cell": "Table of Contents",
   "title_sidebar": "Contents",
   "toc_cell": false,
   "toc_position": {},
   "toc_section_display": true,
   "toc_window_display": false
  },
  "varInspector": {
   "cols": {
    "lenName": 16,
    "lenType": 16,
    "lenVar": 40
   },
   "kernels_config": {
    "python": {
     "delete_cmd_postfix": "",
     "delete_cmd_prefix": "del ",
     "library": "var_list.py",
     "varRefreshCmd": "print(var_dic_list())"
    },
    "r": {
     "delete_cmd_postfix": ") ",
     "delete_cmd_prefix": "rm(",
     "library": "var_list.r",
     "varRefreshCmd": "cat(var_dic_list()) "
    }
   },
   "types_to_exclude": [
    "module",
    "function",
    "builtin_function_or_method",
    "instance",
    "_Feature"
   ],
   "window_display": false
  }
 },
 "nbformat": 4,
 "nbformat_minor": 5
}
