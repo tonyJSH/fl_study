{
 "cells": [
  {
   "cell_type": "code",
   "execution_count": 5,
   "metadata": {
    "ExecuteTime": {
     "end_time": "2023-05-03T16:51:04.458519Z",
     "start_time": "2023-05-03T16:51:04.453720Z"
    }
   },
   "outputs": [],
   "source": [
    "import deepchem as dc\n",
    "import math\n",
    "import numpy as np"
   ]
  },
  {
   "cell_type": "code",
   "execution_count": 6,
   "metadata": {
    "ExecuteTime": {
     "end_time": "2023-05-03T16:51:05.233681Z",
     "start_time": "2023-05-03T16:51:05.217499Z"
    }
   },
   "outputs": [],
   "source": [
    "# Load the data.\n",
    "\n",
    "train = dc.data.DiskDataset('train_dataset')\n",
    "valid = dc.data.DiskDataset('valid_dataset')\n",
    "test = dc.data.DiskDataset('test_dataset')"
   ]
  },
  {
   "cell_type": "code",
   "execution_count": 8,
   "metadata": {
    "ExecuteTime": {
     "end_time": "2023-05-03T16:51:24.030296Z",
     "start_time": "2023-05-03T16:51:23.903926Z"
    }
   },
   "outputs": [
    {
     "data": {
      "text/plain": [
       "(276216, 34527, 34528)"
      ]
     },
     "execution_count": 8,
     "metadata": {},
     "output_type": "execute_result"
    }
   ],
   "source": [
    "len(train), len(valid), len(test)"
   ]
  },
  {
   "cell_type": "code",
   "execution_count": 14,
   "metadata": {
    "ExecuteTime": {
     "end_time": "2023-05-03T16:55:32.620322Z",
     "start_time": "2023-05-03T16:55:31.965971Z"
    }
   },
   "outputs": [],
   "source": [
    "X = np.concatenate((train.X, valid.X, test.X), axis=0)\n",
    "y = np.concatenate((train.y, valid.y, test.y), axis=0)\n",
    "len_X = len(X)\n",
    "len_y = len(y)\n",
    "split_idx = int(len(X) * 0.8)"
   ]
  },
  {
   "cell_type": "code",
   "execution_count": 15,
   "metadata": {
    "ExecuteTime": {
     "end_time": "2023-05-03T16:55:33.199082Z",
     "start_time": "2023-05-03T16:55:33.195475Z"
    }
   },
   "outputs": [],
   "source": [
    "train_X, test_X = X[:split_idx], X[split_idx:]\n",
    "train_y, test_y = y[:split_idx], y[split_idx:]"
   ]
  },
  {
   "cell_type": "code",
   "execution_count": 29,
   "metadata": {
    "ExecuteTime": {
     "end_time": "2023-05-03T16:59:48.062042Z",
     "start_time": "2023-05-03T16:59:48.054198Z"
    }
   },
   "outputs": [],
   "source": [
    "def list_chuck(arr, n):\n",
    "    return [arr[i: i + n] for i in range(0, len(arr), n)]\n",
    "\n",
    "chunk_num = 6\n",
    "\n",
    "chunked_train_X = list_chuck(train_X, math.ceil(len(train_X)/chunk_num))\n",
    "chunked_train_y = list_chuck(train_y, math.ceil(len(train_X)/chunk_num))\n",
    "chunked_test_X = list_chuck(test_X, math.ceil(len(test_X)/chunk_num))\n",
    "chunked_test_y = list_chuck(test_y, math.ceil(len(test_X)/chunk_num))"
   ]
  },
  {
   "cell_type": "code",
   "execution_count": 30,
   "metadata": {
    "ExecuteTime": {
     "end_time": "2023-05-03T16:59:48.693452Z",
     "start_time": "2023-05-03T16:59:48.689499Z"
    }
   },
   "outputs": [
    {
     "data": {
      "text/plain": [
       "6"
      ]
     },
     "execution_count": 30,
     "metadata": {},
     "output_type": "execute_result"
    }
   ],
   "source": [
    "len(chunked_test_X)"
   ]
  },
  {
   "cell_type": "code",
   "execution_count": 31,
   "metadata": {
    "ExecuteTime": {
     "end_time": "2023-05-03T16:59:49.376615Z",
     "start_time": "2023-05-03T16:59:49.278171Z"
    }
   },
   "outputs": [
    {
     "name": "stdout",
     "output_type": "stream",
     "text": [
      "chunked_siRNA_train_X_1.npy\n",
      "chunked_siRNA_train_X_2.npy\n",
      "chunked_siRNA_train_X_3.npy\n",
      "chunked_siRNA_train_X_4.npy\n",
      "chunked_siRNA_train_X_5.npy\n",
      "chunked_siRNA_train_X_6.npy\n",
      "chunked_siRNA_train_y_1.npy\n",
      "chunked_siRNA_train_y_2.npy\n",
      "chunked_siRNA_train_y_3.npy\n",
      "chunked_siRNA_train_y_4.npy\n",
      "chunked_siRNA_train_y_5.npy\n",
      "chunked_siRNA_train_y_6.npy\n",
      "chunked_siRNA_test_X_1.npy\n",
      "chunked_siRNA_test_X_2.npy\n",
      "chunked_siRNA_test_X_3.npy\n",
      "chunked_siRNA_test_X_4.npy\n",
      "chunked_siRNA_test_X_5.npy\n",
      "chunked_siRNA_test_X_6.npy\n",
      "chunked_siRNA_test_y_1.npy\n",
      "chunked_siRNA_test_y_2.npy\n",
      "chunked_siRNA_test_y_3.npy\n",
      "chunked_siRNA_test_y_4.npy\n",
      "chunked_siRNA_test_y_5.npy\n",
      "chunked_siRNA_test_y_6.npy\n"
     ]
    }
   ],
   "source": [
    "for i in range(1, len(chunked_train_X)+1):\n",
    "    print('chunked_siRNA_train_X_%d.npy'%(i))\n",
    "    np.save('./TFbinding_chunked_data/chunked_siRNA_train_X_%d.npy'%(i), chunked_train_X[i-1])\n",
    "\n",
    "for i in range(1, len(chunked_train_y)+1):\n",
    "    print('chunked_siRNA_train_y_%d.npy'%(i))\n",
    "    np.save('./TFbinding_chunked_data/chunked_siRNA_train_y_%d.npy'%(i), chunked_train_y[i-1])\n",
    "\n",
    "for i in range(1, len(chunked_test_X)+1):\n",
    "    print('chunked_siRNA_test_X_%d.npy'%(i))\n",
    "    np.save('./TFbinding_chunked_data/chunked_siRNA_test_X_%d.npy'%(i), chunked_test_X[i-1])\n",
    "    \n",
    "for i in range(1, len(chunked_test_y)+1):\n",
    "    print('chunked_siRNA_test_y_%d.npy'%(i))\n",
    "    np.save('./TFbinding_chunked_data/chunked_siRNA_test_y_%d.npy'%(i), chunked_test_y[i-1])\n"
   ]
  }
 ],
 "metadata": {
  "kernelspec": {
   "display_name": "Python 3 (ipykernel)",
   "language": "python",
   "name": "python3"
  },
  "language_info": {
   "codemirror_mode": {
    "name": "ipython",
    "version": 3
   },
   "file_extension": ".py",
   "mimetype": "text/x-python",
   "name": "python",
   "nbconvert_exporter": "python",
   "pygments_lexer": "ipython3",
   "version": "3.9.7"
  },
  "toc": {
   "base_numbering": 1,
   "nav_menu": {},
   "number_sections": true,
   "sideBar": true,
   "skip_h1_title": false,
   "title_cell": "Table of Contents",
   "title_sidebar": "Contents",
   "toc_cell": false,
   "toc_position": {},
   "toc_section_display": true,
   "toc_window_display": false
  },
  "varInspector": {
   "cols": {
    "lenName": 16,
    "lenType": 16,
    "lenVar": 40
   },
   "kernels_config": {
    "python": {
     "delete_cmd_postfix": "",
     "delete_cmd_prefix": "del ",
     "library": "var_list.py",
     "varRefreshCmd": "print(var_dic_list())"
    },
    "r": {
     "delete_cmd_postfix": ") ",
     "delete_cmd_prefix": "rm(",
     "library": "var_list.r",
     "varRefreshCmd": "cat(var_dic_list()) "
    }
   },
   "types_to_exclude": [
    "module",
    "function",
    "builtin_function_or_method",
    "instance",
    "_Feature"
   ],
   "window_display": false
  }
 },
 "nbformat": 4,
 "nbformat_minor": 2
}
