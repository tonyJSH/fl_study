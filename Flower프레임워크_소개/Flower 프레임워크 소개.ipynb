{
 "cells": [
  {
   "cell_type": "markdown",
   "id": "72a7efa3",
   "metadata": {},
   "source": [
    "# Flower 프레임워크\n",
    "- Adap에서 개발한 연합학습 프레임워크\n",
    "- Pytorch, TensorFlow 등 다양한 딥러닝 프레임워크를 지원\n",
    "- MNIST데이터셋으로 Pytorch, TensorFlow모델의 연합학습 기초 코드를 실습"
   ]
  },
  {
   "cell_type": "markdown",
   "id": "b311ece0",
   "metadata": {},
   "source": [
    "# import"
   ]
  },
  {
   "cell_type": "code",
   "execution_count": 1,
   "id": "1489d6db",
   "metadata": {},
   "outputs": [],
   "source": [
    "#pip install flwr, wrapt, opt_einsum, gast, astunparse, termcolor\n",
    "#pip install -U flwr[\"simulation\"]"
   ]
  },
  {
   "cell_type": "code",
   "execution_count": 1,
   "id": "bfec92b4",
   "metadata": {
    "scrolled": true
   },
   "outputs": [
    {
     "name": "stderr",
     "output_type": "stream",
     "text": [
      "2023-08-10 20:55:00.682325: I tensorflow/core/platform/cpu_feature_guard.cc:193] This TensorFlow binary is optimized with oneAPI Deep Neural Network Library (oneDNN) to use the following CPU instructions in performance-critical operations:  AVX2 AVX512F AVX512_VNNI FMA\n",
      "To enable them in other operations, rebuild TensorFlow with the appropriate compiler flags.\n",
      "2023-08-10 20:55:00.779537: I tensorflow/core/util/util.cc:169] oneDNN custom operations are on. You may see slightly different numerical results due to floating-point round-off errors from different computation orders. To turn them off, set the environment variable `TF_ENABLE_ONEDNN_OPTS=0`.\n",
      "2023-08-10 20:55:00.804420: E tensorflow/stream_executor/cuda/cuda_blas.cc:2981] Unable to register cuBLAS factory: Attempting to register factory for plugin cuBLAS when one has already been registered\n",
      "2023-08-10 20:55:01.177971: W tensorflow/stream_executor/platform/default/dso_loader.cc:64] Could not load dynamic library 'libnvinfer.so.7'; dlerror: libnvinfer.so.7: cannot open shared object file: No such file or directory; LD_LIBRARY_PATH: :/usr/local/cuda-11.4/lib64\n",
      "2023-08-10 20:55:01.178021: W tensorflow/stream_executor/platform/default/dso_loader.cc:64] Could not load dynamic library 'libnvinfer_plugin.so.7'; dlerror: libnvinfer_plugin.so.7: cannot open shared object file: No such file or directory; LD_LIBRARY_PATH: :/usr/local/cuda-11.4/lib64\n",
      "2023-08-10 20:55:01.178026: W tensorflow/compiler/tf2tensorrt/utils/py_utils.cc:38] TF-TRT Warning: Cannot dlopen some TensorRT libraries. If you would like to use Nvidia GPU with TensorRT, please make sure the missing libraries mentioned above are installed properly.\n"
     ]
    }
   ],
   "source": [
    "import flwr as fl\n",
    "import tensorflow as tf\n",
    "import math\n",
    "import os\n",
    "\n",
    "# Tensorflow 로그 출력 줄이기\n",
    "os.environ[\"TF_CPP_MIN_LOG_LEVEL\"] = \"3\"\n",
    "# 동시 9명 연합학습을 위해 cpu 사용\n",
    "os.environ[\"CUDA_VISIBLE_DEVICES\"] = \"-1\""
   ]
  },
  {
   "cell_type": "markdown",
   "id": "c1cfa126",
   "metadata": {},
   "source": [
    "# TensorFlow 모델"
   ]
  },
  {
   "cell_type": "markdown",
   "id": "d96f753f",
   "metadata": {},
   "source": [
    "## 데이터 로드\n",
    "- tensorflow에서 제공하는 mnist데이터 로드"
   ]
  },
  {
   "cell_type": "code",
   "execution_count": 2,
   "id": "33b3febf",
   "metadata": {},
   "outputs": [],
   "source": [
    "(x_train, y_train), (x_test, y_test) = tf.keras.datasets.mnist.load_data()\n",
    "x_train, x_test = x_train / 255.0, x_test / 255.0"
   ]
  },
  {
   "cell_type": "markdown",
   "id": "c817cf99",
   "metadata": {},
   "source": [
    "## 모델 정의\n",
    "- 간단한 MLP 모델을 정의"
   ]
  },
  {
   "cell_type": "code",
   "execution_count": 3,
   "id": "0ed65a46",
   "metadata": {},
   "outputs": [
    {
     "name": "stderr",
     "output_type": "stream",
     "text": [
      "2023-08-10 20:52:25.977452: E tensorflow/stream_executor/cuda/cuda_driver.cc:265] failed call to cuInit: CUDA_ERROR_NO_DEVICE: no CUDA-capable device is detected\n",
      "2023-08-10 20:52:25.977527: I tensorflow/stream_executor/cuda/cuda_diagnostics.cc:169] retrieving CUDA diagnostic information for host: dilab248\n",
      "2023-08-10 20:52:25.977540: I tensorflow/stream_executor/cuda/cuda_diagnostics.cc:176] hostname: dilab248\n",
      "2023-08-10 20:52:25.977709: I tensorflow/stream_executor/cuda/cuda_diagnostics.cc:200] libcuda reported version is: 470.199.2\n",
      "2023-08-10 20:52:25.977758: I tensorflow/stream_executor/cuda/cuda_diagnostics.cc:204] kernel reported version is: 470.199.2\n",
      "2023-08-10 20:52:25.977768: I tensorflow/stream_executor/cuda/cuda_diagnostics.cc:310] kernel version seems to match DSO: 470.199.2\n",
      "2023-08-10 20:52:25.980016: I tensorflow/core/platform/cpu_feature_guard.cc:193] This TensorFlow binary is optimized with oneAPI Deep Neural Network Library (oneDNN) to use the following CPU instructions in performance-critical operations:  AVX2 AVX512F AVX512_VNNI FMA\n",
      "To enable them in other operations, rebuild TensorFlow with the appropriate compiler flags.\n"
     ]
    }
   ],
   "source": [
    "model = tf.keras.models.Sequential([\n",
    "  tf.keras.layers.Flatten(input_shape=(28, 28)),\n",
    "  tf.keras.layers.Dense(128, activation='relu'),\n",
    "  tf.keras.layers.Dropout(0.2),\n",
    "  tf.keras.layers.Dense(10, activation='softmax')\n",
    "])\n",
    "\n",
    "model.compile(optimizer='adam',\n",
    "              loss='sparse_categorical_crossentropy',\n",
    "              metrics=['accuracy'])"
   ]
  },
  {
   "cell_type": "markdown",
   "id": "402c2d7b",
   "metadata": {},
   "source": [
    "## 중앙 집중식 모델 학습"
   ]
  },
  {
   "cell_type": "code",
   "execution_count": 4,
   "id": "55f99aa7",
   "metadata": {},
   "outputs": [
    {
     "name": "stdout",
     "output_type": "stream",
     "text": [
      "Epoch 1/10\n",
      "1875/1875 [==============================] - 7s 4ms/step - loss: 0.3013 - accuracy: 0.9114\n",
      "Epoch 2/10\n",
      "1875/1875 [==============================] - 7s 4ms/step - loss: 0.1469 - accuracy: 0.9564\n",
      "Epoch 3/10\n",
      "1875/1875 [==============================] - 8s 4ms/step - loss: 0.1079 - accuracy: 0.9675\n",
      "Epoch 4/10\n",
      "1875/1875 [==============================] - 7s 4ms/step - loss: 0.0902 - accuracy: 0.9722\n",
      "Epoch 5/10\n",
      "1875/1875 [==============================] - 7s 4ms/step - loss: 0.0774 - accuracy: 0.9754\n",
      "Epoch 6/10\n",
      "1875/1875 [==============================] - 8s 4ms/step - loss: 0.0677 - accuracy: 0.9781\n",
      "Epoch 7/10\n",
      "1875/1875 [==============================] - 8s 4ms/step - loss: 0.0605 - accuracy: 0.9805\n",
      "Epoch 8/10\n",
      "1875/1875 [==============================] - 8s 4ms/step - loss: 0.0531 - accuracy: 0.9828\n",
      "Epoch 9/10\n",
      "1875/1875 [==============================] - 8s 4ms/step - loss: 0.0499 - accuracy: 0.9833\n",
      "Epoch 10/10\n",
      "1875/1875 [==============================] - 8s 4ms/step - loss: 0.0434 - accuracy: 0.9859\n"
     ]
    },
    {
     "data": {
      "text/plain": [
       "{'loss': [0.3013162612915039,\n",
       "  0.14687125384807587,\n",
       "  0.1078963354229927,\n",
       "  0.09024562686681747,\n",
       "  0.07741712778806686,\n",
       "  0.06770208477973938,\n",
       "  0.06054411455988884,\n",
       "  0.05311475321650505,\n",
       "  0.0499182790517807,\n",
       "  0.0433720126748085],\n",
       " 'accuracy': [0.9113666415214539,\n",
       "  0.9563500285148621,\n",
       "  0.9674999713897705,\n",
       "  0.972183346748352,\n",
       "  0.9753999710083008,\n",
       "  0.9780833125114441,\n",
       "  0.9804666638374329,\n",
       "  0.982783317565918,\n",
       "  0.9832833409309387,\n",
       "  0.985883355140686]}"
      ]
     },
     "execution_count": 4,
     "metadata": {},
     "output_type": "execute_result"
    }
   ],
   "source": [
    "history = model.fit(x_train, y_train, epochs=10)\n",
    "history.history"
   ]
  },
  {
   "cell_type": "code",
   "execution_count": 5,
   "id": "75393c57",
   "metadata": {},
   "outputs": [
    {
     "name": "stdout",
     "output_type": "stream",
     "text": [
      "313/313 [==============================] - 1s 4ms/step - loss: 0.0691 - accuracy: 0.9807\n",
      "loss : 0.0691157802939415, accuracy : 0.9807000160217285\n"
     ]
    }
   ],
   "source": [
    "output = model.evaluate(x_test,  y_test)\n",
    "print(f'loss : {output[0]}, accuracy : {output[1]}')"
   ]
  },
  {
   "cell_type": "markdown",
   "id": "3b0e8d29",
   "metadata": {},
   "source": [
    "## 연합학습을 위한 데이터 분할\n",
    "- 각 클라이언트는 서로 다른 데이터를 가지고 있어야 하기에 데이터를 클라이어트의 수 만큼 분할"
   ]
  },
  {
   "cell_type": "code",
   "execution_count": 3,
   "id": "447e8a9d",
   "metadata": {},
   "outputs": [],
   "source": [
    "# 하나의 리스트를 n개로 분할하는 함수 정의\n",
    "def list_split(arr, n):\n",
    "    num = math.ceil(len(arr) / n)\n",
    "    return [arr[i: i + num] for i in range(0, len(arr), num)]"
   ]
  },
  {
   "cell_type": "code",
   "execution_count": 4,
   "id": "94bb8d9e",
   "metadata": {},
   "outputs": [],
   "source": [
    "# 각 클라이언트가 학습하기위한 데이터 분할\n",
    "# 해당 예제에서는 3개의 클라이언트를 연합학습\n",
    "\n",
    "x_train_list, y_train_list, x_val_list, y_val_list = map(list_split, (x_train, y_train, x_test, y_test), (3, 3, 3, 3))"
   ]
  },
  {
   "cell_type": "code",
   "execution_count": 5,
   "id": "d9f8a0c2",
   "metadata": {},
   "outputs": [
    {
     "name": "stdout",
     "output_type": "stream",
     "text": [
      "0번 클라이언트가 사용할 데이터 shape : (20000, 28, 28)\n",
      "1번 클라이언트가 사용할 데이터 shape : (20000, 28, 28)\n",
      "2번 클라이언트가 사용할 데이터 shape : (20000, 28, 28)\n"
     ]
    }
   ],
   "source": [
    "for i in range(3):\n",
    "    print(f'{i}번 클라이언트가 사용할 데이터 shape : {x_train_list[i].shape}')"
   ]
  },
  {
   "cell_type": "markdown",
   "id": "9571cf06",
   "metadata": {},
   "source": [
    "## 연합학습 클라이언트 클래스(Flower client) 정의\n",
    "- Flower의 NumPyClient를 상속받는 FlowerClient 클래스 정의\n",
    "- 클라이언트의 동작을 정의함\n",
    "    - 모델 파라미터 출력, 적용\n",
    "    - 학습 함수 정의\n",
    "    - 검증 함수 정의\n",
    "    - 학습 및 검증 시 손실값과 정확도 반환"
   ]
  },
  {
   "cell_type": "code",
   "execution_count": 6,
   "id": "51583c0a",
   "metadata": {},
   "outputs": [],
   "source": [
    "# 클라이언트 클래스에 필수로 있어야 하는 함수\n",
    "class FlowerClient(fl.client.NumPyClient):\n",
    "    def get_parameters(self, config):\n",
    "        # -------------------------------------------------------------------\n",
    "        # 모델의 파라미터를 반환하는 함수\n",
    "        # 반환하는 모델의 파라미터는 아래와 같은 구조\n",
    "        # [1번 레이어 파라미터(numpy.ndarray), 2번 레이어 파라미터(numpy.ndarray), ...]\n",
    "        # -------------------------------------------------------------------\n",
    "        return # 모델 파라미터(list)\n",
    "\n",
    "    def fit(self, parameters, config):\n",
    "        # -------------------------------------------------------------------\n",
    "        # 모델의 학습을 정의하는 함수\n",
    "        # 모델 학습 전에 서버에서 받은 parameters를 모델에 적용해야함\n",
    "        # 모델 학습 후 모델의 파라미터와 학습데이터의 길이, 서버에서 집계할 모델 성능지표를 반환\n",
    "        # -------------------------------------------------------------------\n",
    "        return # 모델 파라미터(list), 학습 데이터 크기(int), 모델 성능지표(dict)\n",
    "\n",
    "    def evaluate(self, parameters, config):\n",
    "        # -------------------------------------------------------------------\n",
    "        # 모델의 검증을 정의하는 함수\n",
    "        # 모델 검증 전에 서버에서 받은 parameters를 모델에 적용해야함\n",
    "        # 모델 검증 후 손실값과 검증 데이터의 길이, 서버에서 집계할 모델 성능지표를 반환\n",
    "        # -------------------------------------------------------------------\n",
    "        return #손실(float), 검증데이터 크기(int), 모델 성능지표(dict)"
   ]
  },
  {
   "cell_type": "markdown",
   "id": "222c58ad",
   "metadata": {},
   "source": [
    "### TensorFlow모델의 FlowerClient 예시 코드"
   ]
  },
  {
   "cell_type": "code",
   "execution_count": 7,
   "id": "aab96475",
   "metadata": {},
   "outputs": [],
   "source": [
    "class FlowerClient(fl.client.NumPyClient):\n",
    "    def __init__(self, model, x_train, y_train, x_val, y_val):\n",
    "        self.model = model\n",
    "        self.x_train, self.y_train = x_train, y_train\n",
    "        self.x_val, self.y_val = x_val, y_val\n",
    "\n",
    "    def get_parameters(self, config):\n",
    "        return self.model.get_weights() # 모델의 파라미터 반환\n",
    "\n",
    "    def fit(self, parameters, config):\n",
    "        self.model.set_weights(parameters) # 서버에서 받은 parameters 모델 적용\n",
    "        self.model.fit(self.x_train, self.y_train, batch_size=64, epochs=1, verbose=2) # 모델 학습\n",
    "        return self.model.get_weights(), len(self.x_train), {} # 필수 반환\n",
    "\n",
    "    def evaluate(self, parameters, config):\n",
    "        self.model.set_weights(parameters) # 서버에서 받은 parameters 모델 적용\n",
    "        loss, acc = self.model.evaluate(self.x_val, self.y_val, batch_size=64, verbose=2)\n",
    "        return loss, len(self.x_val), {\"accuracy\": acc} # 필수 반환"
   ]
  },
  {
   "cell_type": "markdown",
   "id": "92bb003a",
   "metadata": {},
   "source": [
    "## 연합학습 코드\n",
    "- 앞서 정의한 FlowerClient를 fl.client.start_numpy_client 함수를 통해 클라이언트 실행"
   ]
  },
  {
   "cell_type": "code",
   "execution_count": 8,
   "id": "dbfb6035",
   "metadata": {
    "scrolled": true
   },
   "outputs": [
    {
     "name": "stderr",
     "output_type": "stream",
     "text": [
      "2023-08-10 20:55:30.263569: E tensorflow/stream_executor/cuda/cuda_driver.cc:265] failed call to cuInit: CUDA_ERROR_NO_DEVICE: no CUDA-capable device is detected\n",
      "2023-08-10 20:55:30.263670: I tensorflow/stream_executor/cuda/cuda_diagnostics.cc:169] retrieving CUDA diagnostic information for host: dilab248\n",
      "2023-08-10 20:55:30.263685: I tensorflow/stream_executor/cuda/cuda_diagnostics.cc:176] hostname: dilab248\n",
      "2023-08-10 20:55:30.263867: I tensorflow/stream_executor/cuda/cuda_diagnostics.cc:200] libcuda reported version is: 470.199.2\n",
      "2023-08-10 20:55:30.263917: I tensorflow/stream_executor/cuda/cuda_diagnostics.cc:204] kernel reported version is: 470.199.2\n",
      "2023-08-10 20:55:30.263929: I tensorflow/stream_executor/cuda/cuda_diagnostics.cc:310] kernel version seems to match DSO: 470.199.2\n",
      "2023-08-10 20:55:30.265622: I tensorflow/core/platform/cpu_feature_guard.cc:193] This TensorFlow binary is optimized with oneAPI Deep Neural Network Library (oneDNN) to use the following CPU instructions in performance-critical operations:  AVX2 AVX512F AVX512_VNNI FMA\n",
      "To enable them in other operations, rebuild TensorFlow with the appropriate compiler flags.\n"
     ]
    }
   ],
   "source": [
    "model_fl = tf.keras.models.Sequential([\n",
    "  tf.keras.layers.Flatten(input_shape=(28, 28)),\n",
    "  tf.keras.layers.Dense(128, activation='relu'),\n",
    "  tf.keras.layers.Dropout(0.2),\n",
    "  tf.keras.layers.Dense(10, activation='softmax')\n",
    "])\n",
    "\n",
    "model_fl.compile(optimizer='adam',\n",
    "              loss='sparse_categorical_crossentropy',\n",
    "              metrics=['accuracy'])"
   ]
  },
  {
   "cell_type": "markdown",
   "id": "7f144099",
   "metadata": {},
   "source": [
    "### 같은 폴더에 있는 server 파일을 먼저 실행하고 아래 셀과 clinet1, clinet2 파일을 실행"
   ]
  },
  {
   "cell_type": "code",
   "execution_count": 9,
   "id": "2e4bd362",
   "metadata": {},
   "outputs": [
    {
     "name": "stderr",
     "output_type": "stream",
     "text": [
      "INFO flwr 2023-08-10 20:55:39,293 | grpc.py:50 | Opened insecure gRPC connection (no certificates were passed)\n",
      "DEBUG flwr 2023-08-10 20:55:39,299 | connection.py:39 | ChannelConnectivity.IDLE\n",
      "DEBUG flwr 2023-08-10 20:55:39,303 | connection.py:39 | ChannelConnectivity.READY\n"
     ]
    },
    {
     "name": "stdout",
     "output_type": "stream",
     "text": [
      "313/313 - 1s - loss: 0.5243 - accuracy: 0.8513 - 1s/epoch - 4ms/step\n",
      "53/53 - 0s - loss: 0.3288 - accuracy: 0.9085 - 180ms/epoch - 3ms/step\n",
      "313/313 - 1s - loss: 0.2646 - accuracy: 0.9234 - 1s/epoch - 3ms/step\n",
      "53/53 - 0s - loss: 0.2457 - accuracy: 0.9271 - 124ms/epoch - 2ms/step\n",
      "313/313 - 1s - loss: 0.2099 - accuracy: 0.9391 - 1s/epoch - 3ms/step\n",
      "53/53 - 0s - loss: 0.2019 - accuracy: 0.9403 - 104ms/epoch - 2ms/step\n",
      "313/313 - 1s - loss: 0.1762 - accuracy: 0.9474 - 1s/epoch - 3ms/step\n",
      "53/53 - 0s - loss: 0.1778 - accuracy: 0.9466 - 107ms/epoch - 2ms/step\n",
      "313/313 - 1s - loss: 0.1537 - accuracy: 0.9543 - 1s/epoch - 3ms/step\n",
      "53/53 - 0s - loss: 0.1582 - accuracy: 0.9541 - 111ms/epoch - 2ms/step\n",
      "313/313 - 1s - loss: 0.1347 - accuracy: 0.9608 - 1s/epoch - 3ms/step\n",
      "53/53 - 0s - loss: 0.1465 - accuracy: 0.9577 - 118ms/epoch - 2ms/step\n",
      "313/313 - 1s - loss: 0.1229 - accuracy: 0.9643 - 1s/epoch - 3ms/step\n",
      "53/53 - 0s - loss: 0.1323 - accuracy: 0.9607 - 102ms/epoch - 2ms/step\n",
      "313/313 - 1s - loss: 0.1101 - accuracy: 0.9669 - 1s/epoch - 3ms/step\n",
      "53/53 - 0s - loss: 0.1273 - accuracy: 0.9631 - 105ms/epoch - 2ms/step\n",
      "313/313 - 1s - loss: 0.1035 - accuracy: 0.9690 - 1s/epoch - 3ms/step\n",
      "53/53 - 0s - loss: 0.1173 - accuracy: 0.9646 - 125ms/epoch - 2ms/step\n",
      "313/313 - 1s - loss: 0.0951 - accuracy: 0.9719 - 1s/epoch - 3ms/step\n",
      "53/53 - 0s - loss: 0.1120 - accuracy: 0.9667 - 119ms/epoch - 2ms/step\n"
     ]
    },
    {
     "name": "stderr",
     "output_type": "stream",
     "text": [
      "DEBUG flwr 2023-08-10 20:56:02,240 | connection.py:113 | gRPC channel closed\n",
      "INFO flwr 2023-08-10 20:56:02,241 | app.py:185 | Disconnect and shut down\n"
     ]
    }
   ],
   "source": [
    "client_num = 0\n",
    "flwr_client = FlowerClient(model_fl, x_train_list[client_num], y_train_list[client_num], x_val_list[client_num], y_val_list[client_num])\n",
    "\n",
    "fl.client.start_numpy_client(server_address=\"127.0.0.1:8080\", client=flwr_client)"
   ]
  },
  {
   "cell_type": "code",
   "execution_count": null,
   "id": "652b1ae9-8b50-46d3-93fb-0febd8255d32",
   "metadata": {},
   "outputs": [],
   "source": []
  }
 ],
 "metadata": {
  "kernelspec": {
   "display_name": "fl_study",
   "language": "python",
   "name": "fl_study"
  },
  "language_info": {
   "codemirror_mode": {
    "name": "ipython",
    "version": 3
   },
   "file_extension": ".py",
   "mimetype": "text/x-python",
   "name": "python",
   "nbconvert_exporter": "python",
   "pygments_lexer": "ipython3",
   "version": "3.10.12"
  },
  "toc": {
   "base_numbering": 1,
   "nav_menu": {},
   "number_sections": false,
   "sideBar": true,
   "skip_h1_title": false,
   "title_cell": "Table of Contents",
   "title_sidebar": "Contents",
   "toc_cell": false,
   "toc_position": {
    "height": "calc(100% - 180px)",
    "left": "10px",
    "top": "150px",
    "width": "469.188px"
   },
   "toc_section_display": true,
   "toc_window_display": true
  }
 },
 "nbformat": 4,
 "nbformat_minor": 5
}
