{
 "cells": [
  {
   "cell_type": "markdown",
   "id": "2827b615",
   "metadata": {},
   "source": [
    "# Flower Server 코드\n",
    "- server 실행 시 strategy를 통해 다양한 설정값을 지정\n",
    "- output으로 각 라운드의 집계된 손실값과 성능 지표가 저장됨\n",
    "    - 성능 지표(아래 셀 에선 accuracy)는 evaluate_metrics_aggregation_fn을 통해 집계됨"
   ]
  },
  {
   "cell_type": "markdown",
   "id": "5ffd3a74",
   "metadata": {},
   "source": [
    "## 만약 아래 셀을 실행하고 연합학습 완료 전에 종료 시 '반드시 커널 재시작을 통해 초기화 해야 함'"
   ]
  },
  {
   "cell_type": "code",
   "execution_count": 1,
   "id": "7eb0698d",
   "metadata": {
    "scrolled": true
   },
   "outputs": [
    {
     "name": "stderr",
     "output_type": "stream",
     "text": [
      "2023-08-10 20:55:19.550167: I tensorflow/core/platform/cpu_feature_guard.cc:193] This TensorFlow binary is optimized with oneAPI Deep Neural Network Library (oneDNN) to use the following CPU instructions in performance-critical operations:  AVX2 AVX512F AVX512_VNNI FMA\n",
      "To enable them in other operations, rebuild TensorFlow with the appropriate compiler flags.\n",
      "2023-08-10 20:55:19.646241: I tensorflow/core/util/util.cc:169] oneDNN custom operations are on. You may see slightly different numerical results due to floating-point round-off errors from different computation orders. To turn them off, set the environment variable `TF_ENABLE_ONEDNN_OPTS=0`.\n",
      "2023-08-10 20:55:19.671115: E tensorflow/stream_executor/cuda/cuda_blas.cc:2981] Unable to register cuBLAS factory: Attempting to register factory for plugin cuBLAS when one has already been registered\n",
      "2023-08-10 20:55:20.064910: W tensorflow/stream_executor/platform/default/dso_loader.cc:64] Could not load dynamic library 'libnvinfer.so.7'; dlerror: libnvinfer.so.7: cannot open shared object file: No such file or directory; LD_LIBRARY_PATH: :/usr/local/cuda-11.4/lib64\n",
      "2023-08-10 20:55:20.064967: W tensorflow/stream_executor/platform/default/dso_loader.cc:64] Could not load dynamic library 'libnvinfer_plugin.so.7'; dlerror: libnvinfer_plugin.so.7: cannot open shared object file: No such file or directory; LD_LIBRARY_PATH: :/usr/local/cuda-11.4/lib64\n",
      "2023-08-10 20:55:20.064973: W tensorflow/compiler/tf2tensorrt/utils/py_utils.cc:38] TF-TRT Warning: Cannot dlopen some TensorRT libraries. If you would like to use Nvidia GPU with TensorRT, please make sure the missing libraries mentioned above are installed properly.\n",
      "INFO flwr 2023-08-10 20:55:20,463 | app.py:148 | Starting Flower server, config: ServerConfig(num_rounds=10, round_timeout=None)\n",
      "INFO flwr 2023-08-10 20:55:20,470 | app.py:168 | Flower ECE: gRPC server running (10 rounds), SSL is disabled\n",
      "INFO flwr 2023-08-10 20:55:20,471 | server.py:86 | Initializing global parameters\n",
      "INFO flwr 2023-08-10 20:55:20,472 | server.py:273 | Requesting initial parameters from one random client\n"
     ]
    },
    {
     "name": "stdout",
     "output_type": "stream",
     "text": [
      "server start!\n"
     ]
    },
    {
     "name": "stderr",
     "output_type": "stream",
     "text": [
      "INFO flwr 2023-08-10 20:55:39,329 | server.py:277 | Received initial parameters from one random client\n",
      "INFO flwr 2023-08-10 20:55:39,330 | server.py:88 | Evaluating initial parameters\n",
      "INFO flwr 2023-08-10 20:55:39,331 | server.py:101 | FL starting\n",
      "DEBUG flwr 2023-08-10 20:55:47,722 | server.py:218 | fit_round 1: strategy sampled 3 clients (out of 3)\n",
      "DEBUG flwr 2023-08-10 20:55:49,334 | server.py:232 | fit_round 1 received 3 results and 0 failures\n",
      "WARNING flwr 2023-08-10 20:55:49,341 | fedavg.py:243 | No fit_metrics_aggregation_fn provided\n",
      "DEBUG flwr 2023-08-10 20:55:49,343 | server.py:168 | evaluate_round 1: strategy sampled 3 clients (out of 3)\n",
      "DEBUG flwr 2023-08-10 20:55:49,735 | server.py:182 | evaluate_round 1 received 3 results and 0 failures\n",
      "DEBUG flwr 2023-08-10 20:55:49,736 | server.py:218 | fit_round 2: strategy sampled 3 clients (out of 3)\n",
      "DEBUG flwr 2023-08-10 20:55:50,930 | server.py:232 | fit_round 2 received 3 results and 0 failures\n",
      "DEBUG flwr 2023-08-10 20:55:50,936 | server.py:168 | evaluate_round 2: strategy sampled 3 clients (out of 3)\n",
      "DEBUG flwr 2023-08-10 20:55:51,133 | server.py:182 | evaluate_round 2 received 3 results and 0 failures\n",
      "DEBUG flwr 2023-08-10 20:55:51,134 | server.py:218 | fit_round 3: strategy sampled 3 clients (out of 3)\n",
      "DEBUG flwr 2023-08-10 20:55:52,338 | server.py:232 | fit_round 3 received 3 results and 0 failures\n",
      "DEBUG flwr 2023-08-10 20:55:52,344 | server.py:168 | evaluate_round 3: strategy sampled 3 clients (out of 3)\n",
      "DEBUG flwr 2023-08-10 20:55:52,521 | server.py:182 | evaluate_round 3 received 3 results and 0 failures\n",
      "DEBUG flwr 2023-08-10 20:55:52,522 | server.py:218 | fit_round 4: strategy sampled 3 clients (out of 3)\n",
      "DEBUG flwr 2023-08-10 20:55:53,718 | server.py:232 | fit_round 4 received 3 results and 0 failures\n",
      "DEBUG flwr 2023-08-10 20:55:53,724 | server.py:168 | evaluate_round 4: strategy sampled 3 clients (out of 3)\n",
      "DEBUG flwr 2023-08-10 20:55:53,915 | server.py:182 | evaluate_round 4 received 3 results and 0 failures\n",
      "DEBUG flwr 2023-08-10 20:55:53,916 | server.py:218 | fit_round 5: strategy sampled 3 clients (out of 3)\n",
      "DEBUG flwr 2023-08-10 20:55:55,087 | server.py:232 | fit_round 5 received 3 results and 0 failures\n",
      "DEBUG flwr 2023-08-10 20:55:55,093 | server.py:168 | evaluate_round 5: strategy sampled 3 clients (out of 3)\n",
      "DEBUG flwr 2023-08-10 20:55:55,275 | server.py:182 | evaluate_round 5 received 3 results and 0 failures\n",
      "DEBUG flwr 2023-08-10 20:55:55,277 | server.py:218 | fit_round 6: strategy sampled 3 clients (out of 3)\n",
      "DEBUG flwr 2023-08-10 20:55:56,450 | server.py:232 | fit_round 6 received 3 results and 0 failures\n",
      "DEBUG flwr 2023-08-10 20:55:56,456 | server.py:168 | evaluate_round 6: strategy sampled 3 clients (out of 3)\n",
      "DEBUG flwr 2023-08-10 20:55:56,662 | server.py:182 | evaluate_round 6 received 3 results and 0 failures\n",
      "DEBUG flwr 2023-08-10 20:55:56,663 | server.py:218 | fit_round 7: strategy sampled 3 clients (out of 3)\n",
      "DEBUG flwr 2023-08-10 20:55:57,848 | server.py:232 | fit_round 7 received 3 results and 0 failures\n",
      "DEBUG flwr 2023-08-10 20:55:57,854 | server.py:168 | evaluate_round 7: strategy sampled 3 clients (out of 3)\n",
      "DEBUG flwr 2023-08-10 20:55:58,039 | server.py:182 | evaluate_round 7 received 3 results and 0 failures\n",
      "DEBUG flwr 2023-08-10 20:55:58,041 | server.py:218 | fit_round 8: strategy sampled 3 clients (out of 3)\n",
      "DEBUG flwr 2023-08-10 20:55:59,236 | server.py:232 | fit_round 8 received 3 results and 0 failures\n",
      "DEBUG flwr 2023-08-10 20:55:59,242 | server.py:168 | evaluate_round 8: strategy sampled 3 clients (out of 3)\n",
      "DEBUG flwr 2023-08-10 20:55:59,434 | server.py:182 | evaluate_round 8 received 3 results and 0 failures\n",
      "DEBUG flwr 2023-08-10 20:55:59,435 | server.py:218 | fit_round 9: strategy sampled 3 clients (out of 3)\n",
      "DEBUG flwr 2023-08-10 20:56:00,625 | server.py:232 | fit_round 9 received 3 results and 0 failures\n",
      "DEBUG flwr 2023-08-10 20:56:00,631 | server.py:168 | evaluate_round 9: strategy sampled 3 clients (out of 3)\n",
      "DEBUG flwr 2023-08-10 20:56:00,831 | server.py:182 | evaluate_round 9 received 3 results and 0 failures\n",
      "DEBUG flwr 2023-08-10 20:56:00,833 | server.py:218 | fit_round 10: strategy sampled 3 clients (out of 3)\n",
      "DEBUG flwr 2023-08-10 20:56:02,032 | server.py:232 | fit_round 10 received 3 results and 0 failures\n",
      "DEBUG flwr 2023-08-10 20:56:02,039 | server.py:168 | evaluate_round 10: strategy sampled 3 clients (out of 3)\n",
      "DEBUG flwr 2023-08-10 20:56:02,224 | server.py:182 | evaluate_round 10 received 3 results and 0 failures\n",
      "INFO flwr 2023-08-10 20:56:02,225 | server.py:147 | FL finished in 22.89307324704714\n",
      "INFO flwr 2023-08-10 20:56:02,226 | app.py:218 | app_fit: losses_distributed [(1, 0.25994672174453737), (2, 0.19096916469335556), (3, 0.15640759750008584), (4, 0.13673105250597), (5, 0.1209870516717434), (6, 0.11128747137784958), (7, 0.10222893356829882), (8, 0.0963453742697835), (9, 0.09085558602660894), (10, 0.08535868340283632)]\n",
      "INFO flwr 2023-08-10 20:56:02,227 | app.py:219 | app_fit: metrics_distributed_fit {}\n",
      "INFO flwr 2023-08-10 20:56:02,228 | app.py:220 | app_fit: metrics_distributed {'accuracy': [(1, 0.928000002002716), (2, 0.9436000126481057), (3, 0.9538000010371208), (4, 0.9591000057578087), (5, 0.9641000053405762), (6, 0.9664000087857246), (7, 0.9684000042319297), (8, 0.9720000284075737), (9, 0.9725999884366989), (10, 0.9740999801635742)]}\n",
      "INFO flwr 2023-08-10 20:56:02,229 | app.py:221 | app_fit: losses_centralized []\n",
      "INFO flwr 2023-08-10 20:56:02,230 | app.py:222 | app_fit: metrics_centralized {}\n"
     ]
    },
    {
     "data": {
      "text/plain": [
       "History (loss, distributed):\n",
       "\tround 1: 0.25994672174453737\n",
       "\tround 2: 0.19096916469335556\n",
       "\tround 3: 0.15640759750008584\n",
       "\tround 4: 0.13673105250597\n",
       "\tround 5: 0.1209870516717434\n",
       "\tround 6: 0.11128747137784958\n",
       "\tround 7: 0.10222893356829882\n",
       "\tround 8: 0.0963453742697835\n",
       "\tround 9: 0.09085558602660894\n",
       "\tround 10: 0.08535868340283632\n",
       "History (metrics, distributed, evaluate):\n",
       "{'accuracy': [(1, 0.928000002002716), (2, 0.9436000126481057), (3, 0.9538000010371208), (4, 0.9591000057578087), (5, 0.9641000053405762), (6, 0.9664000087857246), (7, 0.9684000042319297), (8, 0.9720000284075737), (9, 0.9725999884366989), (10, 0.9740999801635742)]}"
      ]
     },
     "execution_count": 1,
     "metadata": {},
     "output_type": "execute_result"
    }
   ],
   "source": [
    "import flwr as fl\n",
    "import os\n",
    "import numpy as np\n",
    "# 동시 9명 연합학습을 위해 cpu 사용\n",
    "os.environ[\"CUDA_VISIBLE_DEVICES\"] = \"-1\"\n",
    "\n",
    "fraction_fit=1\n",
    "fraction_eval=1\n",
    "min_fit_clients=3\n",
    "min_eval_clients=3\n",
    "min_available_clients=3\n",
    "num_rounds=10\n",
    "\n",
    "def evaluate_metrics_aggregation_fn(eval_metrics):\n",
    "    data_len = sum([num for num, met in eval_metrics])\n",
    "    acc = sum([num*met['accuracy'] for num, met in eval_metrics])/data_len\n",
    "    return {'accuracy' : acc}\n",
    "\n",
    "strategy = fl.server.strategy.FedAvg(\n",
    "    fraction_fit=fraction_fit,                    # 훈련을 위해서 사용 가능한 클라이언트의 100% 이용\n",
    "    fraction_evaluate=fraction_eval,              # 평가를 위해서 사용 가능한 클라이언트의 100% 이용\n",
    "    min_fit_clients=min_fit_clients,              # 훈련을 위해서는 적어도 5개 이상의 클라이언트가 필요\n",
    "    min_evaluate_clients=min_eval_clients,        # 평가를 위해서는 적어도 5개 이상의 클라이언트가 필요\n",
    "    min_available_clients=min_available_clients,  # 사용 가능한 클라이언트의 수가 5 될 때까지 대기\n",
    "    evaluate_metrics_aggregation_fn=evaluate_metrics_aggregation_fn,\n",
    ")\n",
    "\n",
    "print('server start!')\n",
    "output = fl.server.start_server(config=fl.server.ServerConfig(num_rounds=num_rounds), strategy=strategy)\n",
    "output"
   ]
  }
 ],
 "metadata": {
  "kernelspec": {
   "display_name": "fl_study",
   "language": "python",
   "name": "fl_study"
  },
  "language_info": {
   "codemirror_mode": {
    "name": "ipython",
    "version": 3
   },
   "file_extension": ".py",
   "mimetype": "text/x-python",
   "name": "python",
   "nbconvert_exporter": "python",
   "pygments_lexer": "ipython3",
   "version": "3.10.12"
  }
 },
 "nbformat": 4,
 "nbformat_minor": 5
}
