{
 "cells": [
  {
   "cell_type": "markdown",
   "id": "34036ec7",
   "metadata": {},
   "source": [
    "# Deepchem을 활용한 Tox21 분자독성예측 예제"
   ]
  },
  {
   "cell_type": "markdown",
   "id": "83d25db2",
   "metadata": {},
   "source": [
    "- Deepchem라이브러리를 활용하여 Tox21 데이터세트에 포함된 분자의 독성을 예측해보는 예제\n",
    "- Deepchem은 텐서플로우 기반으로 신약개발 분야에 활용되는 머신러닝/딥러닝 라이브러리(=패키지)\n",
    "- 예제를 통하여 머신러닝/딥러닝을 어떻게 실제 세계의 문제에 적용하는지 접근법과 딥러닝 모델의 구체적인 활용법을 이해"
   ]
  },
  {
   "cell_type": "markdown",
   "id": "5f50f352",
   "metadata": {},
   "source": [
    "## 데이터세트와 도메인 확인"
   ]
  },
  {
   "cell_type": "markdown",
   "id": "8aa8e8f4",
   "metadata": {},
   "source": [
    "- Deepchem 라이브러리에는 Tox21데이터셋과 이에 사용할 수 있는 딥러닝 모델을 제공함\n",
    "- Tox21데이터셋이란 약물(분자)의 독성예측과 관련된 표적 단백질의 실험 데이터\n",
    "- dc.molnet.load_tox21()을 사용하여 아래와 같이 Task, Dataset, Transformer의 3가지 값을 불러올 수 있음"
   ]
  },
  {
   "cell_type": "code",
   "execution_count": null,
   "id": "c11e12d0",
   "metadata": {},
   "outputs": [],
   "source": [
    "# 가상환경에 deepchem 라이브러리 설치 필요\n",
    "# pip install deepchem"
   ]
  },
  {
   "cell_type": "code",
   "execution_count": 2,
   "id": "912041ec",
   "metadata": {
    "ExecuteTime": {
     "end_time": "2023-06-29T10:08:19.424981Z",
     "start_time": "2023-06-29T10:08:02.742173Z"
    },
    "scrolled": false
   },
   "outputs": [
    {
     "name": "stderr",
     "output_type": "stream",
     "text": [
      "2023-08-31 17:05:29.531861: I tensorflow/core/platform/cpu_feature_guard.cc:193] This TensorFlow binary is optimized with oneAPI Deep Neural Network Library (oneDNN) to use the following CPU instructions in performance-critical operations:  AVX2 AVX512F AVX512_VNNI FMA\n",
      "To enable them in other operations, rebuild TensorFlow with the appropriate compiler flags.\n",
      "2023-08-31 17:05:29.648819: I tensorflow/core/util/util.cc:169] oneDNN custom operations are on. You may see slightly different numerical results due to floating-point round-off errors from different computation orders. To turn them off, set the environment variable `TF_ENABLE_ONEDNN_OPTS=0`.\n",
      "2023-08-31 17:05:29.674775: E tensorflow/stream_executor/cuda/cuda_blas.cc:2981] Unable to register cuBLAS factory: Attempting to register factory for plugin cuBLAS when one has already been registered\n",
      "2023-08-31 17:05:30.217584: W tensorflow/stream_executor/platform/default/dso_loader.cc:64] Could not load dynamic library 'libnvinfer.so.7'; dlerror: libnvinfer.so.7: cannot open shared object file: No such file or directory; LD_LIBRARY_PATH: /usr/local/cuda/lib64::/usr/local/cuda/lib64::/usr/local/cuda-11.4/lib64\n",
      "2023-08-31 17:05:30.217655: W tensorflow/stream_executor/platform/default/dso_loader.cc:64] Could not load dynamic library 'libnvinfer_plugin.so.7'; dlerror: libnvinfer_plugin.so.7: cannot open shared object file: No such file or directory; LD_LIBRARY_PATH: /usr/local/cuda/lib64::/usr/local/cuda/lib64::/usr/local/cuda-11.4/lib64\n",
      "2023-08-31 17:05:30.217661: W tensorflow/compiler/tf2tensorrt/utils/py_utils.cc:38] TF-TRT Warning: Cannot dlopen some TensorRT libraries. If you would like to use Nvidia GPU with TensorRT, please make sure the missing libraries mentioned above are installed properly.\n",
      "Skipped loading modules with pytorch-geometric dependency, missing a dependency. No module named 'torch_geometric'\n",
      "Skipped loading modules with pytorch-geometric dependency, missing a dependency. cannot import name 'DMPNN' from 'deepchem.models.torch_models' (/home/dilab239/anaconda3/envs/AI_study/lib/python3.10/site-packages/deepchem/models/torch_models/__init__.py)\n",
      "Skipped loading modules with pytorch-lightning dependency, missing a dependency. No module named 'pytorch_lightning'\n",
      "Skipped loading some Jax models, missing a dependency. No module named 'jax'\n"
     ]
    }
   ],
   "source": [
    "import numpy as np\n",
    "import deepchem as dc\n",
    "import torch\n",
    "from collections import OrderedDict\n",
    "import os\n",
    "os.environ[\"CUDA_VISIBLE_DEVICES\"] = \"0\" # 해당 조의 GPU 번호로 변경\n",
    "\n",
    "tox21_tasks, tox21_datasets, transformers = dc.molnet.load_tox21()"
   ]
  },
  {
   "cell_type": "markdown",
   "id": "ccc4c386",
   "metadata": {},
   "source": [
    "### Task (표적 단백질)"
   ]
  },
  {
   "cell_type": "markdown",
   "id": "84cb5e45",
   "metadata": {
    "ExecuteTime": {
     "end_time": "2023-05-03T07:18:09.942262Z",
     "start_time": "2023-05-03T07:18:09.937655Z"
    }
   },
   "source": [
    "- Task는 아래 12가지 표적 단백질로 구성\n",
    "- 표적 단백질은 잠재적으로 신약에 활용될 수 있는 분자와 결합시 독성 반응을 보이는 것으로 여겨짐"
   ]
  },
  {
   "cell_type": "code",
   "execution_count": 3,
   "id": "71981a72",
   "metadata": {
    "ExecuteTime": {
     "end_time": "2023-05-04T06:29:47.808859Z",
     "start_time": "2023-05-04T06:29:47.799019Z"
    }
   },
   "outputs": [
    {
     "data": {
      "text/plain": [
       "['NR-AR',\n",
       " 'NR-AR-LBD',\n",
       " 'NR-AhR',\n",
       " 'NR-Aromatase',\n",
       " 'NR-ER',\n",
       " 'NR-ER-LBD',\n",
       " 'NR-PPAR-gamma',\n",
       " 'SR-ARE',\n",
       " 'SR-ATAD5',\n",
       " 'SR-HSE',\n",
       " 'SR-MMP',\n",
       " 'SR-p53']"
      ]
     },
     "execution_count": 3,
     "metadata": {},
     "output_type": "execute_result"
    }
   ],
   "source": [
    "tox21_tasks"
   ]
  },
  {
   "cell_type": "markdown",
   "id": "4115281f",
   "metadata": {},
   "source": [
    "### 데이터 확인"
   ]
  },
  {
   "cell_type": "markdown",
   "id": "8f2183fe",
   "metadata": {},
   "source": [
    "- tox21_datasets는 train, valid, test의 3가지 데이터셋으로 구성됨\n",
    "- 각 데이터셋에는 X, y, w 벡터가 존재하며 .shape 명령으로 구조를 확인 가능\n",
    "- X벡터 = 학습 또는 추론에 사용할 feature(특징), 각 샘플은 분자의 FingerPrint\n",
    "- y벡터 = 학습 또는 추론결과인 정답, 참값등, 각 샘플의 레이블 12개는 표적 단백질 12종과의 결합 정도를 의미\n",
    "- w벡터 = 가중치(weight)값"
   ]
  },
  {
   "cell_type": "code",
   "execution_count": 4,
   "id": "e3ded5aa",
   "metadata": {
    "ExecuteTime": {
     "end_time": "2023-05-04T06:29:48.106058Z",
     "start_time": "2023-05-04T06:29:48.099738Z"
    }
   },
   "outputs": [],
   "source": [
    "train_dataset, valid_dataset, test_dataset = tox21_datasets"
   ]
  },
  {
   "cell_type": "code",
   "execution_count": 5,
   "id": "9d5e586e",
   "metadata": {},
   "outputs": [
    {
     "data": {
      "text/plain": [
       "(array([[0., 0., 0., ..., 0., 0., 0.],\n",
       "        [0., 0., 0., ..., 0., 0., 0.],\n",
       "        [0., 1., 0., ..., 0., 0., 0.],\n",
       "        ...,\n",
       "        [0., 0., 0., ..., 0., 0., 0.],\n",
       "        [0., 0., 0., ..., 0., 0., 0.],\n",
       "        [0., 1., 0., ..., 0., 0., 0.]]),\n",
       " array(['CC(O)(P(=O)(O)O)P(=O)(O)O',\n",
       "        'CC(C)(C)OOC(C)(C)CCC(C)(C)OOC(C)(C)C',\n",
       "        'OC[C@H](O)[C@@H](O)[C@H](O)CO', ...,\n",
       "        'O=C1OC(OC(=O)c2cccnc2Nc2cccc(C(F)(F)F)c2)c2ccccc21',\n",
       "        'CC(=O)C1(C)CC2=C(CCCC2(C)C)CC1C',\n",
       "        'CC(C)CCC[C@@H](C)[C@H]1CC(=O)C2=C3CC[C@H]4C[C@@H](O)CC[C@]4(C)[C@H]3CC[C@@]21C'],\n",
       "       dtype=object))"
      ]
     },
     "execution_count": 5,
     "metadata": {},
     "output_type": "execute_result"
    }
   ],
   "source": [
    "train_dataset.X, train_dataset.ids"
   ]
  },
  {
   "cell_type": "code",
   "execution_count": 6,
   "id": "d08b8740",
   "metadata": {
    "ExecuteTime": {
     "end_time": "2023-05-04T06:29:49.615037Z",
     "start_time": "2023-05-04T06:29:49.567126Z"
    },
    "scrolled": true
   },
   "outputs": [
    {
     "name": "stdout",
     "output_type": "stream",
     "text": [
      "(6264, 1024)\n",
      "(783, 1024)\n",
      "(784, 1024)\n"
     ]
    }
   ],
   "source": [
    "print(train_dataset.X.shape)\n",
    "print(valid_dataset.X.shape)\n",
    "print(test_dataset.X.shape)"
   ]
  },
  {
   "cell_type": "code",
   "execution_count": 7,
   "id": "c2e3c61c",
   "metadata": {
    "ExecuteTime": {
     "end_time": "2023-05-04T06:37:46.721486Z",
     "start_time": "2023-05-04T06:37:46.713093Z"
    }
   },
   "outputs": [
    {
     "name": "stdout",
     "output_type": "stream",
     "text": [
      "(6264, 12)\n",
      "(783, 12)\n",
      "(784, 12)\n"
     ]
    }
   ],
   "source": [
    "print(train_dataset.y.shape)\n",
    "print(valid_dataset.y.shape)\n",
    "print(test_dataset.y.shape)"
   ]
  },
  {
   "cell_type": "markdown",
   "id": "e3961c04",
   "metadata": {},
   "source": [
    "### 불완전한 데이터세트의 적용(가중치를 통한 걸러내기)"
   ]
  },
  {
   "cell_type": "markdown",
   "id": "505b45c6",
   "metadata": {},
   "source": [
    "- Tox21 데이터셋은 모든 분자와 단백질간의 생화학적 분석이 완료되어있지 않아 결측치 존재\n",
    "- 모델 학습시 이러한 결측치는 제외되어야 함\n",
    "- 각 분자 샘플의 가중치를 기록하는 w벡터를 활용하여 해결\n",
    "- w벡터에는 손실함수를 계산시 샘플과 task에 곱하여 합산하는 가중치값이 포함\n",
    "- 결측치가 있는 샘플의 경우, 가중치값이 0이므로 손실함수에 대한 영향없이 무시  \n",
    "(tox21데이터는 지속적으로 갱신되므로 변할 수 있음)"
   ]
  },
  {
   "cell_type": "code",
   "execution_count": 8,
   "id": "f007c553",
   "metadata": {
    "ExecuteTime": {
     "end_time": "2023-05-01T15:49:56.829434Z",
     "start_time": "2023-05-01T15:49:56.821576Z"
    },
    "scrolled": true
   },
   "outputs": [
    {
     "name": "stdout",
     "output_type": "stream",
     "text": [
      "(6264, 12)\n",
      "63647\n",
      "11521\n"
     ]
    }
   ],
   "source": [
    "# np.count_nonzero()를 통해 0인 가중치가 얼마나 있는지 확인하기\n",
    "print(train_dataset.w.shape)\n",
    "print(np.count_nonzero(train_dataset.w))\n",
    "print(np.count_nonzero(train_dataset.w==0))"
   ]
  },
  {
   "cell_type": "markdown",
   "id": "ca1e8b4c",
   "metadata": {},
   "source": [
    "### 데이터 사용을 위한 Transformer(변환기)"
   ]
  },
  {
   "cell_type": "markdown",
   "id": "a69dbd73",
   "metadata": {},
   "source": [
    "- transformers 객체는 원본 데이터셋을 변환시켜주는 tool을 포함\n",
    "- tox21의 분자 대부분은 표적 단백질에 결합하지 않는 데이터임\n",
    "- 따라서 y벡터의 레이블 대부분이(약 90%) 결합되지 않음을 나타내는 0으로 채워짐\n",
    "- 항상 결과를 0으로만 예측하는 모델은 정확도가 90%로 측정될 수 있음\n",
    "- 이렇게 불균형한 데이터를 보완할 수 있도록 가중치 행렬을 조정해주는 Balancing transformer 사용\n",
    "- 각 클래스(분류 목표)에 할당된 총 가중치가 동일하도록 개별 데이터들의 가중치를 조정"
   ]
  },
  {
   "cell_type": "code",
   "execution_count": 9,
   "id": "1ca16ed8",
   "metadata": {
    "ExecuteTime": {
     "end_time": "2023-05-01T15:49:57.014481Z",
     "start_time": "2023-05-01T15:49:57.004771Z"
    }
   },
   "outputs": [
    {
     "data": {
      "text/plain": [
       "[[1.0450224215246637, 23.211155378486055],\n",
       " [1.036325992847732, 28.528497409326423],\n",
       " [1.1250265336446614, 8.99830220713073],\n",
       " [1.045414847161572, 23.01923076923077],\n",
       " [1.1460775473399458, 7.845679012345679],\n",
       " [1.056211354693648, 18.79],\n",
       " [1.0255516840882695, 40.13636363636363],\n",
       " [1.1726791726791728, 6.79108635097493],\n",
       " [1.035385448636938, 29.260204081632654],\n",
       " [1.0557650327445922, 18.93238434163701],\n",
       " [1.1746499631540162, 6.725738396624473],\n",
       " [1.05288369419429, 19.909420289855074]]"
      ]
     },
     "execution_count": 9,
     "metadata": {},
     "output_type": "execute_result"
    }
   ],
   "source": [
    "transformers[0].weights"
   ]
  },
  {
   "cell_type": "markdown",
   "id": "1b63f619",
   "metadata": {},
   "source": [
    "# 중앙 집중식 학습"
   ]
  },
  {
   "cell_type": "markdown",
   "id": "b68297df",
   "metadata": {},
   "source": [
    "## 학습 모델 불러오기"
   ]
  },
  {
   "cell_type": "markdown",
   "id": "386d4cdb",
   "metadata": {},
   "source": [
    "- 학습 모델로 사용하는 MultitaskClassifier는 다중작업분류기임\n",
    "- 모든 샘플(x)에 대해 여러개의 레이블(y값은 12개)이 있는 다중 분류 문제를 해결하는데 사용\n",
    "- n_tasks = 분류해야할 작업의 갯수 (12개)\n",
    "- n_features = 입력될 feature의 갯수 (x벡터 크기인 1024)\n",
    "- layer_sizes = hidden레이어의 갯수(1)와 너비(1000)  "
   ]
  },
  {
   "cell_type": "code",
   "execution_count": 10,
   "id": "07cc626d",
   "metadata": {
    "ExecuteTime": {
     "end_time": "2023-05-01T15:49:57.506203Z",
     "start_time": "2023-05-01T15:49:57.492280Z"
    }
   },
   "outputs": [],
   "source": [
    "model = dc.models.MultitaskClassifier(n_tasks=12, n_features=1024, layer_sizes=[1000])"
   ]
  },
  {
   "cell_type": "markdown",
   "id": "3ddd75fb",
   "metadata": {},
   "source": [
    "## 모델 학습"
   ]
  },
  {
   "cell_type": "markdown",
   "id": "674f856d",
   "metadata": {},
   "source": [
    "- 대부분의 머신러닝 라이브러리들은 모델 학습을 함수화한 fit 함수를 지원\n",
    "- 위에서 지정한 모델에 train_dataset을 사용하여 10 epoch 학습함\n",
    "- Epoch란, 신경망 모델에 대하여 전체 데이터셋을 모두 사용하여 순전파, 역전파를 모두 진행하고 학습과정을 완료하였다는 의미"
   ]
  },
  {
   "cell_type": "code",
   "execution_count": 16,
   "id": "50fb0a09",
   "metadata": {
    "ExecuteTime": {
     "end_time": "2023-05-01T15:50:22.187074Z",
     "start_time": "2023-05-01T15:50:18.145717Z"
    }
   },
   "outputs": [
    {
     "data": {
      "text/plain": [
       "0.49527231852213544"
      ]
     },
     "execution_count": 16,
     "metadata": {},
     "output_type": "execute_result"
    }
   ],
   "source": [
    "# 방법 1 : 중간 결과물 출력 없이 학습\n",
    "model.fit(train_dataset, nb_epoch=10)"
   ]
  },
  {
   "cell_type": "code",
   "execution_count": 90,
   "id": "2d55690a",
   "metadata": {},
   "outputs": [
    {
     "name": "stdout",
     "output_type": "stream",
     "text": [
      "Epoch 0: {'mean-roc_auc_score': 0.8528758574822146} {'mean-roc_auc_score': 0.6973176394472445}\n",
      "Epoch 1: {'mean-roc_auc_score': 0.8969103174395134} {'mean-roc_auc_score': 0.7069945555737336}\n",
      "Epoch 2: {'mean-roc_auc_score': 0.9181007869207068} {'mean-roc_auc_score': 0.7135828426629814}\n",
      "Epoch 3: {'mean-roc_auc_score': 0.928979753667809} {'mean-roc_auc_score': 0.7123335869996831}\n",
      "Epoch 4: {'mean-roc_auc_score': 0.9379828321487323} {'mean-roc_auc_score': 0.7137258884556483}\n",
      "Epoch 5: {'mean-roc_auc_score': 0.9447339499353494} {'mean-roc_auc_score': 0.712208815909228}\n",
      "Epoch 6: {'mean-roc_auc_score': 0.9484793543577533} {'mean-roc_auc_score': 0.71281656075499}\n",
      "Epoch 7: {'mean-roc_auc_score': 0.9512847462497472} {'mean-roc_auc_score': 0.7147909310334475}\n",
      "Epoch 8: {'mean-roc_auc_score': 0.9561678266308412} {'mean-roc_auc_score': 0.7112200703290289}\n",
      "Epoch 9: {'mean-roc_auc_score': 0.9580589632446084} {'mean-roc_auc_score': 0.7137912728152257}\n"
     ]
    }
   ],
   "source": [
    "# 방법 2 : 학습 도중 결과를 저장 및 출력\n",
    "train_roc_list = []\n",
    "val_roc_list = []\n",
    "metric = dc.metrics.Metric(dc.metrics.roc_auc_score, np.mean)\n",
    "for i in range(10):\n",
    "    model.fit(train_dataset, nb_epoch=1)\n",
    "    train_roc = model.evaluate(train_dataset, [metric])\n",
    "    val_roc = model.evaluate(valid_dataset, [metric])\n",
    "    print('Epoch %d:' % (i), end=' ')\n",
    "    print(train_roc, val_roc)\n",
    "    train_roc_list.append(train_roc['mean-roc_auc_score'])\n",
    "    val_roc_list.append(val_roc['mean-roc_auc_score'])"
   ]
  },
  {
   "cell_type": "markdown",
   "id": "fe722006",
   "metadata": {},
   "source": [
    "## 모델의 성능 평가"
   ]
  },
  {
   "cell_type": "markdown",
   "id": "2e5de584",
   "metadata": {},
   "source": [
    "- 학습을 모두 마친 모델은 성능 평가 과정을 거쳐야 함\n",
    "- 성능평가를 위하여 평가 지표(Metric)을 설정\n",
    "- 본 예제는 분류 문제이므로, ROC_AUC 점수를 평가지표로 사용하되, 다중 분류이므로 각 분류 점수의 평균값을 사용"
   ]
  },
  {
   "cell_type": "code",
   "execution_count": 86,
   "id": "96facc8c",
   "metadata": {
    "ExecuteTime": {
     "end_time": "2023-05-01T15:50:22.229498Z",
     "start_time": "2023-05-01T15:50:22.227516Z"
    }
   },
   "outputs": [],
   "source": [
    "metric = dc.metrics.Metric(dc.metrics.roc_auc_score, np.mean)"
   ]
  },
  {
   "cell_type": "markdown",
   "id": "2e3888e2",
   "metadata": {},
   "source": [
    "- 위 fit과 같이 evaluate를 통해 학습된 모델에 대해 평가를 진행하되, 이미 학습했던 데이터는 사용하지 않아야 함\n",
    "- 미리 분리해둔 test 데이터를 활용하면 객관적인 모델 평가가 가능\n",
    "- train데이터와 test데이터 모두 점수가 높다면 모델이 일반화(Generalization)가 잘 된것으로 평가\n",
    "- 일반화(Generalization) =  모델이 학습한 데이터 외에도 새로운 데이터에 대한 추론 성능이 높음"
   ]
  },
  {
   "cell_type": "code",
   "execution_count": 91,
   "id": "cda0069a",
   "metadata": {
    "ExecuteTime": {
     "end_time": "2023-05-01T17:56:37.269166Z",
     "start_time": "2023-05-01T17:56:37.109287Z"
    }
   },
   "outputs": [
    {
     "name": "stdout",
     "output_type": "stream",
     "text": [
      "{'mean-roc_auc_score': 0.6812142854830853}\n"
     ]
    }
   ],
   "source": [
    "test_scores = model.evaluate(test_dataset, [metric], transformers)\n",
    "print(test_scores)"
   ]
  },
  {
   "cell_type": "markdown",
   "id": "a0646e41",
   "metadata": {},
   "source": [
    "# 연합학습을 위한 데이터 분할 및 저장"
   ]
  },
  {
   "cell_type": "code",
   "execution_count": 9,
   "id": "2146aace",
   "metadata": {},
   "outputs": [],
   "source": [
    "# 하나의 리스트를 n개로 분할하는 함수 정의\n",
    "import math\n",
    "def list_split(arr, n):\n",
    "    num = math.ceil(len(arr) / n)\n",
    "    return [arr[i: i + num] for i in range(0, len(arr), num)]"
   ]
  },
  {
   "cell_type": "code",
   "execution_count": 22,
   "id": "2a321920",
   "metadata": {},
   "outputs": [],
   "source": [
    "# 각 클라이언트가 학습하기위한 데이터 분할\n",
    "# 해당 예제에서는 3개의 클라이언트를 연합학습\n",
    "num_clients = 6\n",
    "x_train_list, y_train_list = map(list_split, (train_dataset.X, train_dataset.y), (num_clients, num_clients))\n",
    "x_val_list, y_val_list = map(list_split, (valid_dataset.X, valid_dataset.y), (num_clients, num_clients))\n"
   ]
  },
  {
   "cell_type": "code",
   "execution_count": 23,
   "id": "a0534994",
   "metadata": {},
   "outputs": [],
   "source": [
    "def save_datas(file_name:str, data:list):\n",
    "    try: os.mkdir('./data')\n",
    "    except: pass\n",
    "    for i in range(len(data)):\n",
    "        try: os.mkdir(f'./data/client{i}')\n",
    "        except: pass\n",
    "        np.save(f'./data/client{i}/{file_name}.npy', data[i])"
   ]
  },
  {
   "cell_type": "code",
   "execution_count": 24,
   "id": "5a384039",
   "metadata": {},
   "outputs": [],
   "source": [
    "file_name_list = ['x_train', 'y_train', 'x_val', 'y_val']\n",
    "data_list = [x_train_list, y_train_list, x_val_list, y_val_list]\n",
    "\n",
    "for f_name, d_list in zip(file_name_list, data_list):\n",
    "    save_datas(f_name, d_list)"
   ]
  },
  {
   "cell_type": "markdown",
   "id": "3ab9d126",
   "metadata": {},
   "source": [
    "# 연합학습 코드\n",
    "- flower에 모델을 탑재하기 위해 DeepChem에서 제공하는 모델이 어떤 프레임워크(Pytorch, TensorFlow)를 사용했는지 확인\n",
    "- 모델은 DeepChem에서 불러온 모델 클래스 내부의 model이라는 변수에 저장되어 있음\n",
    "- 사용된 모델의 프레임워크에 맞게 flower에 탑재"
   ]
  },
  {
   "cell_type": "code",
   "execution_count": 14,
   "id": "6e3fa8ab",
   "metadata": {},
   "outputs": [
    {
     "name": "stdout",
     "output_type": "stream",
     "text": [
      "PytorchImpl(\n",
      "  (layers): ModuleList(\n",
      "    (0): Linear(in_features=1024, out_features=1000, bias=True)\n",
      "  )\n",
      "  (output_layer): Linear(in_features=1000, out_features=24, bias=True)\n",
      ")\n",
      "<class 'deepchem.models.fcnet.MultitaskClassifier'>\n"
     ]
    }
   ],
   "source": [
    "# model 프레임워크 확인\n",
    "dc_model = dc.models.MultitaskClassifier(n_tasks=12, n_features=1024, layer_sizes=[1000])\n",
    "print(dc_model.model)\n",
    "print(type(dc_model.model))"
   ]
  },
  {
   "cell_type": "markdown",
   "id": "c360f761",
   "metadata": {},
   "source": [
    "### 해당 예제에서는 Pytorch 모델을 사용했기에 Pytorch 모델에 맞게 Flower client 코드 작성"
   ]
  },
  {
   "cell_type": "raw",
   "id": "308fee40",
   "metadata": {},
   "source": [
    "# client 코드\n",
    "import deepchem as dc\n",
    "import numpy as np\n",
    "import torch\n",
    "from collections import OrderedDict\n",
    "import flwr as fl\n",
    "import sys\n",
    "\n",
    "\n",
    "client_num = int(sys.argv[1])\n",
    "x_train = np.load(f'./data/client{client_num}/x_train.npy')\n",
    "y_train = np.load(f'./data/client{client_num}/y_train.npy')\n",
    "x_val = np.load(f'./data/client{client_num}/x_val.npy')\n",
    "y_val = np.load(f'./data/client{client_num}/y_val.npy')\n",
    "\n",
    "train_set = dc.data.DiskDataset.from_numpy(x_train, y_train)\n",
    "val_set = dc.data.DiskDataset.from_numpy(x_val, y_val)\n",
    "\n",
    "model_fl = dc.models.MultitaskClassifier(n_tasks=12, n_features=1024, layer_sizes=[1000])\n",
    "\n",
    "metric = dc.metrics.Metric(dc.metrics.roc_auc_score, np.mean)\n",
    "\n",
    "class FlowerClient(fl.client.NumPyClient):\n",
    "    def __init__(self, model, train_dataset, val_dataset, metric):\n",
    "        self.model = model\n",
    "        self.trainset = train_dataset\n",
    "        self.valset = val_dataset\n",
    "        self.metric = metric\n",
    "\n",
    "    def get_parameters(self, config):\n",
    "        return [val.cpu().numpy() for _, val in self.model.model.state_dict().items()] # 모델의 파라미터 반환\n",
    "    \n",
    "    def set_parameters(self, parameters):\n",
    "        params_dict = zip(self.model.model.state_dict().keys(), parameters)\n",
    "        state_dict = OrderedDict({k: torch.tensor(v) for k, v in params_dict})\n",
    "        self.model.model.load_state_dict(state_dict, strict=True)\n",
    "\n",
    "    def fit(self, parameters, config):\n",
    "        self.set_parameters(parameters) # 서버에서 받은 parameters 모델 적용\n",
    "        self.model.fit(self.trainset, nb_epoch=1) # 모델 학습\n",
    "        train_roc = self.model.evaluate(self.trainset, [self.metric])\n",
    "        return self.get_parameters(config={}), len(self.trainset), train_roc # 필수 반환\n",
    "\n",
    "    def evaluate(self, parameters, config):\n",
    "        self.set_parameters(parameters) # 서버에서 받은 parameters 모델 적용\n",
    "        val_roc = self.model.evaluate(self.valset, [self.metric])\n",
    "        return 0.1, len(self.valset), val_roc # 필수 반환 (loss값은 임의로 0.1 입력)\n",
    "    \n",
    "fl_client = FlowerClient(model_fl, train_set, val_set, metric)\n",
    "\n",
    "fl.client.start_numpy_client(server_address=\"127.0.0.1:8080\", client=fl_client)\n"
   ]
  },
  {
   "cell_type": "markdown",
   "id": "dd2295af",
   "metadata": {},
   "source": [
    "# 서버 실행"
   ]
  },
  {
   "cell_type": "code",
   "execution_count": 2,
   "id": "332e6a32",
   "metadata": {
    "scrolled": true
   },
   "outputs": [
    {
     "name": "stderr",
     "output_type": "stream",
     "text": [
      "INFO flwr 2023-08-28 21:21:09,912 | app.py:148 | Starting Flower server, config: ServerConfig(num_rounds=20, round_timeout=None)\n",
      "INFO flwr 2023-08-28 21:21:09,920 | app.py:168 | Flower ECE: gRPC server running (20 rounds), SSL is disabled\n",
      "INFO flwr 2023-08-28 21:21:09,921 | server.py:86 | Initializing global parameters\n",
      "INFO flwr 2023-08-28 21:21:09,922 | server.py:273 | Requesting initial parameters from one random client\n"
     ]
    },
    {
     "name": "stdout",
     "output_type": "stream",
     "text": [
      "server start!\n"
     ]
    },
    {
     "name": "stderr",
     "output_type": "stream",
     "text": [
      "INFO flwr 2023-08-28 21:21:16,953 | server.py:277 | Received initial parameters from one random client\n",
      "INFO flwr 2023-08-28 21:21:16,954 | server.py:88 | Evaluating initial parameters\n",
      "INFO flwr 2023-08-28 21:21:16,955 | server.py:101 | FL starting\n",
      "DEBUG flwr 2023-08-28 21:21:17,034 | server.py:218 | fit_round 1: strategy sampled 5 clients (out of 5)\n",
      "DEBUG flwr 2023-08-28 21:21:17,861 | server.py:232 | fit_round 1 received 5 results and 0 failures\n",
      "WARNING flwr 2023-08-28 21:21:17,888 | fedavg.py:243 | No fit_metrics_aggregation_fn provided\n",
      "DEBUG flwr 2023-08-28 21:21:17,889 | server.py:168 | evaluate_round 1: strategy sampled 6 clients (out of 6)\n",
      "DEBUG flwr 2023-08-28 21:21:18,426 | server.py:182 | evaluate_round 1 received 6 results and 0 failures\n",
      "DEBUG flwr 2023-08-28 21:21:18,427 | server.py:218 | fit_round 2: strategy sampled 6 clients (out of 6)\n",
      "DEBUG flwr 2023-08-28 21:21:18,628 | server.py:232 | fit_round 2 received 6 results and 0 failures\n",
      "DEBUG flwr 2023-08-28 21:21:18,663 | server.py:168 | evaluate_round 2: strategy sampled 6 clients (out of 6)\n",
      "DEBUG flwr 2023-08-28 21:21:18,735 | server.py:182 | evaluate_round 2 received 6 results and 0 failures\n",
      "DEBUG flwr 2023-08-28 21:21:18,736 | server.py:218 | fit_round 3: strategy sampled 6 clients (out of 6)\n",
      "DEBUG flwr 2023-08-28 21:21:18,888 | server.py:232 | fit_round 3 received 6 results and 0 failures\n",
      "DEBUG flwr 2023-08-28 21:21:18,923 | server.py:168 | evaluate_round 3: strategy sampled 6 clients (out of 6)\n",
      "DEBUG flwr 2023-08-28 21:21:19,001 | server.py:182 | evaluate_round 3 received 6 results and 0 failures\n",
      "DEBUG flwr 2023-08-28 21:21:19,001 | server.py:218 | fit_round 4: strategy sampled 6 clients (out of 6)\n",
      "DEBUG flwr 2023-08-28 21:21:19,164 | server.py:232 | fit_round 4 received 6 results and 0 failures\n",
      "DEBUG flwr 2023-08-28 21:21:19,206 | server.py:168 | evaluate_round 4: strategy sampled 6 clients (out of 6)\n",
      "DEBUG flwr 2023-08-28 21:21:19,278 | server.py:182 | evaluate_round 4 received 6 results and 0 failures\n",
      "DEBUG flwr 2023-08-28 21:21:19,278 | server.py:218 | fit_round 5: strategy sampled 6 clients (out of 6)\n",
      "DEBUG flwr 2023-08-28 21:21:19,433 | server.py:232 | fit_round 5 received 6 results and 0 failures\n",
      "DEBUG flwr 2023-08-28 21:21:19,469 | server.py:168 | evaluate_round 5: strategy sampled 6 clients (out of 6)\n",
      "DEBUG flwr 2023-08-28 21:21:19,543 | server.py:182 | evaluate_round 5 received 6 results and 0 failures\n",
      "DEBUG flwr 2023-08-28 21:21:19,543 | server.py:218 | fit_round 6: strategy sampled 6 clients (out of 6)\n",
      "DEBUG flwr 2023-08-28 21:21:19,711 | server.py:232 | fit_round 6 received 6 results and 0 failures\n",
      "DEBUG flwr 2023-08-28 21:21:19,757 | server.py:168 | evaluate_round 6: strategy sampled 6 clients (out of 6)\n",
      "DEBUG flwr 2023-08-28 21:21:19,833 | server.py:182 | evaluate_round 6 received 6 results and 0 failures\n",
      "DEBUG flwr 2023-08-28 21:21:19,834 | server.py:218 | fit_round 7: strategy sampled 6 clients (out of 6)\n",
      "DEBUG flwr 2023-08-28 21:21:20,003 | server.py:232 | fit_round 7 received 6 results and 0 failures\n",
      "DEBUG flwr 2023-08-28 21:21:20,038 | server.py:168 | evaluate_round 7: strategy sampled 6 clients (out of 6)\n",
      "DEBUG flwr 2023-08-28 21:21:20,112 | server.py:182 | evaluate_round 7 received 6 results and 0 failures\n",
      "DEBUG flwr 2023-08-28 21:21:20,113 | server.py:218 | fit_round 8: strategy sampled 6 clients (out of 6)\n",
      "DEBUG flwr 2023-08-28 21:21:20,284 | server.py:232 | fit_round 8 received 6 results and 0 failures\n",
      "DEBUG flwr 2023-08-28 21:21:20,320 | server.py:168 | evaluate_round 8: strategy sampled 6 clients (out of 6)\n",
      "DEBUG flwr 2023-08-28 21:21:20,394 | server.py:182 | evaluate_round 8 received 6 results and 0 failures\n",
      "DEBUG flwr 2023-08-28 21:21:20,394 | server.py:218 | fit_round 9: strategy sampled 6 clients (out of 6)\n",
      "DEBUG flwr 2023-08-28 21:21:20,564 | server.py:232 | fit_round 9 received 6 results and 0 failures\n",
      "DEBUG flwr 2023-08-28 21:21:20,601 | server.py:168 | evaluate_round 9: strategy sampled 6 clients (out of 6)\n",
      "DEBUG flwr 2023-08-28 21:21:20,676 | server.py:182 | evaluate_round 9 received 6 results and 0 failures\n",
      "DEBUG flwr 2023-08-28 21:21:20,677 | server.py:218 | fit_round 10: strategy sampled 6 clients (out of 6)\n",
      "DEBUG flwr 2023-08-28 21:21:20,845 | server.py:232 | fit_round 10 received 6 results and 0 failures\n",
      "DEBUG flwr 2023-08-28 21:21:20,871 | server.py:168 | evaluate_round 10: strategy sampled 6 clients (out of 6)\n",
      "DEBUG flwr 2023-08-28 21:21:20,948 | server.py:182 | evaluate_round 10 received 6 results and 0 failures\n",
      "DEBUG flwr 2023-08-28 21:21:20,949 | server.py:218 | fit_round 11: strategy sampled 6 clients (out of 6)\n",
      "DEBUG flwr 2023-08-28 21:21:21,109 | server.py:232 | fit_round 11 received 6 results and 0 failures\n",
      "DEBUG flwr 2023-08-28 21:21:21,133 | server.py:168 | evaluate_round 11: strategy sampled 6 clients (out of 6)\n",
      "DEBUG flwr 2023-08-28 21:21:21,207 | server.py:182 | evaluate_round 11 received 6 results and 0 failures\n",
      "DEBUG flwr 2023-08-28 21:21:21,208 | server.py:218 | fit_round 12: strategy sampled 6 clients (out of 6)\n",
      "DEBUG flwr 2023-08-28 21:21:21,371 | server.py:232 | fit_round 12 received 6 results and 0 failures\n",
      "DEBUG flwr 2023-08-28 21:21:21,406 | server.py:168 | evaluate_round 12: strategy sampled 6 clients (out of 6)\n",
      "DEBUG flwr 2023-08-28 21:21:21,482 | server.py:182 | evaluate_round 12 received 6 results and 0 failures\n",
      "DEBUG flwr 2023-08-28 21:21:21,483 | server.py:218 | fit_round 13: strategy sampled 6 clients (out of 6)\n",
      "DEBUG flwr 2023-08-28 21:21:21,646 | server.py:232 | fit_round 13 received 6 results and 0 failures\n",
      "DEBUG flwr 2023-08-28 21:21:21,681 | server.py:168 | evaluate_round 13: strategy sampled 6 clients (out of 6)\n",
      "DEBUG flwr 2023-08-28 21:21:21,751 | server.py:182 | evaluate_round 13 received 6 results and 0 failures\n",
      "DEBUG flwr 2023-08-28 21:21:21,751 | server.py:218 | fit_round 14: strategy sampled 6 clients (out of 6)\n",
      "DEBUG flwr 2023-08-28 21:21:21,922 | server.py:232 | fit_round 14 received 6 results and 0 failures\n",
      "DEBUG flwr 2023-08-28 21:21:21,965 | server.py:168 | evaluate_round 14: strategy sampled 6 clients (out of 6)\n",
      "DEBUG flwr 2023-08-28 21:21:22,041 | server.py:182 | evaluate_round 14 received 6 results and 0 failures\n",
      "DEBUG flwr 2023-08-28 21:21:22,042 | server.py:218 | fit_round 15: strategy sampled 6 clients (out of 6)\n",
      "DEBUG flwr 2023-08-28 21:21:22,207 | server.py:232 | fit_round 15 received 6 results and 0 failures\n",
      "DEBUG flwr 2023-08-28 21:21:22,242 | server.py:168 | evaluate_round 15: strategy sampled 6 clients (out of 6)\n",
      "DEBUG flwr 2023-08-28 21:21:22,319 | server.py:182 | evaluate_round 15 received 6 results and 0 failures\n",
      "DEBUG flwr 2023-08-28 21:21:22,320 | server.py:218 | fit_round 16: strategy sampled 6 clients (out of 6)\n",
      "DEBUG flwr 2023-08-28 21:21:22,503 | server.py:232 | fit_round 16 received 6 results and 0 failures\n",
      "DEBUG flwr 2023-08-28 21:21:22,540 | server.py:168 | evaluate_round 16: strategy sampled 6 clients (out of 6)\n",
      "DEBUG flwr 2023-08-28 21:21:22,615 | server.py:182 | evaluate_round 16 received 6 results and 0 failures\n",
      "DEBUG flwr 2023-08-28 21:21:22,616 | server.py:218 | fit_round 17: strategy sampled 6 clients (out of 6)\n",
      "DEBUG flwr 2023-08-28 21:21:22,783 | server.py:232 | fit_round 17 received 6 results and 0 failures\n",
      "DEBUG flwr 2023-08-28 21:21:22,821 | server.py:168 | evaluate_round 17: strategy sampled 6 clients (out of 6)\n",
      "DEBUG flwr 2023-08-28 21:21:22,891 | server.py:182 | evaluate_round 17 received 6 results and 0 failures\n",
      "DEBUG flwr 2023-08-28 21:21:22,892 | server.py:218 | fit_round 18: strategy sampled 6 clients (out of 6)\n",
      "DEBUG flwr 2023-08-28 21:21:23,065 | server.py:232 | fit_round 18 received 6 results and 0 failures\n",
      "DEBUG flwr 2023-08-28 21:21:23,099 | server.py:168 | evaluate_round 18: strategy sampled 6 clients (out of 6)\n",
      "DEBUG flwr 2023-08-28 21:21:23,172 | server.py:182 | evaluate_round 18 received 6 results and 0 failures\n",
      "DEBUG flwr 2023-08-28 21:21:23,173 | server.py:218 | fit_round 19: strategy sampled 6 clients (out of 6)\n",
      "DEBUG flwr 2023-08-28 21:21:23,337 | server.py:232 | fit_round 19 received 6 results and 0 failures\n",
      "DEBUG flwr 2023-08-28 21:21:23,368 | server.py:168 | evaluate_round 19: strategy sampled 6 clients (out of 6)\n",
      "DEBUG flwr 2023-08-28 21:21:23,443 | server.py:182 | evaluate_round 19 received 6 results and 0 failures\n"
     ]
    },
    {
     "name": "stderr",
     "output_type": "stream",
     "text": [
      "DEBUG flwr 2023-08-28 21:21:23,443 | server.py:218 | fit_round 20: strategy sampled 6 clients (out of 6)\n",
      "DEBUG flwr 2023-08-28 21:21:23,615 | server.py:232 | fit_round 20 received 6 results and 0 failures\n",
      "DEBUG flwr 2023-08-28 21:21:23,655 | server.py:168 | evaluate_round 20: strategy sampled 6 clients (out of 6)\n",
      "DEBUG flwr 2023-08-28 21:21:23,730 | server.py:182 | evaluate_round 20 received 6 results and 0 failures\n",
      "INFO flwr 2023-08-28 21:21:23,730 | server.py:147 | FL finished in 6.774742648995016\n",
      "INFO flwr 2023-08-28 21:21:23,731 | app.py:218 | app_fit: losses_distributed [(1, 0.10000000149011612), (2, 0.10000000149011612), (3, 0.10000000149011612), (4, 0.10000000149011612), (5, 0.10000000149011612), (6, 0.10000000149011612), (7, 0.10000000149011612), (8, 0.10000000149011612), (9, 0.10000000149011612), (10, 0.10000000149011612), (11, 0.10000000149011612), (12, 0.10000000149011612), (13, 0.10000000149011612), (14, 0.10000000149011612), (15, 0.10000000149011612), (16, 0.10000000149011612), (17, 0.10000000149011612), (18, 0.10000000149011612), (19, 0.10000000149011612), (20, 0.10000000149011612)]\n",
      "INFO flwr 2023-08-28 21:21:23,731 | app.py:219 | app_fit: metrics_distributed_fit {}\n",
      "INFO flwr 2023-08-28 21:21:23,732 | app.py:220 | app_fit: metrics_distributed {'mean-roc_auc_score': [(1, 0.6019952855367567), (2, 0.618600876587328), (3, 0.6345508008090812), (4, 0.6494426340712532), (5, 0.6584992695159299), (6, 0.6677232146792814), (7, 0.6755920217092644), (8, 0.6813067373515415), (9, 0.6858426106260785), (10, 0.688675725948092), (11, 0.691090928339881), (12, 0.6927305709057119), (13, 0.6942573018055715), (14, 0.6951744180070245), (15, 0.6969024191172195), (16, 0.6978804017878585), (17, 0.6976221768844996), (18, 0.6987856571976737), (19, 0.699674131062411), (20, 0.700721402797696)]}\n",
      "INFO flwr 2023-08-28 21:21:23,732 | app.py:221 | app_fit: losses_centralized []\n",
      "INFO flwr 2023-08-28 21:21:23,732 | app.py:222 | app_fit: metrics_centralized {}\n"
     ]
    },
    {
     "data": {
      "text/plain": [
       "History (loss, distributed):\n",
       "\tround 1: 0.10000000149011612\n",
       "\tround 2: 0.10000000149011612\n",
       "\tround 3: 0.10000000149011612\n",
       "\tround 4: 0.10000000149011612\n",
       "\tround 5: 0.10000000149011612\n",
       "\tround 6: 0.10000000149011612\n",
       "\tround 7: 0.10000000149011612\n",
       "\tround 8: 0.10000000149011612\n",
       "\tround 9: 0.10000000149011612\n",
       "\tround 10: 0.10000000149011612\n",
       "\tround 11: 0.10000000149011612\n",
       "\tround 12: 0.10000000149011612\n",
       "\tround 13: 0.10000000149011612\n",
       "\tround 14: 0.10000000149011612\n",
       "\tround 15: 0.10000000149011612\n",
       "\tround 16: 0.10000000149011612\n",
       "\tround 17: 0.10000000149011612\n",
       "\tround 18: 0.10000000149011612\n",
       "\tround 19: 0.10000000149011612\n",
       "\tround 20: 0.10000000149011612\n",
       "History (metrics, distributed, evaluate):\n",
       "{'mean-roc_auc_score': [(1, 0.6019952855367567), (2, 0.618600876587328), (3, 0.6345508008090812), (4, 0.6494426340712532), (5, 0.6584992695159299), (6, 0.6677232146792814), (7, 0.6755920217092644), (8, 0.6813067373515415), (9, 0.6858426106260785), (10, 0.688675725948092), (11, 0.691090928339881), (12, 0.6927305709057119), (13, 0.6942573018055715), (14, 0.6951744180070245), (15, 0.6969024191172195), (16, 0.6978804017878585), (17, 0.6976221768844996), (18, 0.6987856571976737), (19, 0.699674131062411), (20, 0.700721402797696)]}"
      ]
     },
     "execution_count": 2,
     "metadata": {},
     "output_type": "execute_result"
    }
   ],
   "source": [
    "import flwr as fl\n",
    "import os\n",
    "import numpy as np\n",
    "os.environ[\"CUDA_VISIBLE_DEVICES\"] = \"0\" # 해당 조의 GPU 번호로 변경\n",
    "\n",
    "\n",
    "fraction_fit=1\n",
    "fraction_eval=1\n",
    "min_fit_clients=5\n",
    "min_eval_clients=5\n",
    "min_available_clients=5\n",
    "num_rounds=20\n",
    "\n",
    "def evaluate_metrics_aggregation_fn(eval_metrics):\n",
    "    data_len = sum([num for num, met in eval_metrics])\n",
    "    acc = sum([num*met['mean-roc_auc_score'] for num, met in eval_metrics])/data_len\n",
    "    return {'mean-roc_auc_score' : acc}\n",
    "\n",
    "strategy = fl.server.strategy.FedAvg(\n",
    "    fraction_fit=fraction_fit,                    # 훈련을 위해서 사용 가능한 클라이언트의 100% 이용\n",
    "    fraction_evaluate=fraction_eval,              # 평가를 위해서 사용 가능한 클라이언트의 100% 이용\n",
    "    min_fit_clients=min_fit_clients,              # 훈련을 위해서는 적어도 5개 이상의 클라이언트가 필요\n",
    "    min_evaluate_clients=min_eval_clients,        # 평가를 위해서는 적어도 5개 이상의 클라이언트가 필요\n",
    "    min_available_clients=min_available_clients,  # 사용 가능한 클라이언트의 수가 5 될 때까지 대기\n",
    "    evaluate_metrics_aggregation_fn=evaluate_metrics_aggregation_fn,\n",
    ")\n",
    "\n",
    "print('server start!')\n",
    "output = fl.server.start_server(config=fl.server.ServerConfig(num_rounds=num_rounds), strategy=strategy)\n",
    "output"
   ]
  },
  {
   "cell_type": "raw",
   "id": "6cc811e0",
   "metadata": {},
   "source": [
    "python client.py 0 & python client.py 1 & python client.py 2 & python client.py 3 & python client.py 4 & python client.py 5 &"
   ]
  },
  {
   "cell_type": "code",
   "execution_count": null,
   "id": "159c4e17",
   "metadata": {},
   "outputs": [],
   "source": []
  }
 ],
 "metadata": {
  "kernelspec": {
   "display_name": "AI_study",
   "language": "python",
   "name": "ai_study"
  },
  "language_info": {
   "codemirror_mode": {
    "name": "ipython",
    "version": 3
   },
   "file_extension": ".py",
   "mimetype": "text/x-python",
   "name": "python",
   "nbconvert_exporter": "python",
   "pygments_lexer": "ipython3",
   "version": "3.10.12"
  },
  "toc": {
   "base_numbering": 1,
   "nav_menu": {},
   "number_sections": false,
   "sideBar": true,
   "skip_h1_title": false,
   "title_cell": "Table of Contents",
   "title_sidebar": "Contents",
   "toc_cell": false,
   "toc_position": {
    "height": "calc(100% - 180px)",
    "left": "10px",
    "top": "150px",
    "width": "222px"
   },
   "toc_section_display": true,
   "toc_window_display": true
  },
  "varInspector": {
   "cols": {
    "lenName": 16,
    "lenType": 16,
    "lenVar": 40
   },
   "kernels_config": {
    "python": {
     "delete_cmd_postfix": "",
     "delete_cmd_prefix": "del ",
     "library": "var_list.py",
     "varRefreshCmd": "print(var_dic_list())"
    },
    "r": {
     "delete_cmd_postfix": ") ",
     "delete_cmd_prefix": "rm(",
     "library": "var_list.r",
     "varRefreshCmd": "cat(var_dic_list()) "
    }
   },
   "types_to_exclude": [
    "module",
    "function",
    "builtin_function_or_method",
    "instance",
    "_Feature"
   ],
   "window_display": false
  }
 },
 "nbformat": 4,
 "nbformat_minor": 5
}
